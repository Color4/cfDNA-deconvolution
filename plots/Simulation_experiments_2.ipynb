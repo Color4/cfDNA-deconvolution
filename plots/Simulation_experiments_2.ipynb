{
 "cells": [
  {
   "cell_type": "markdown",
   "metadata": {},
   "source": [
    "## Deconvolution Simulation Experiments 2\n",
    "#### Christa Caggiano \n",
    "#### July 18th 2018 \n",
    "\n",
    "\n",
    "Simulations for cfDNA tissue of origin deconvolution. Given an observed matrix of methylation counts for each CpG from whole genome bisulfite sequencing, and a reference matrix of the cannonical proportion methylation for each CpG in each tissue, estimates how much of the cfDNA comes from each tissue in the reference. \n",
    "\n",
    "These simulations generate a variety of 'true' proportions and test how well our current algorithm is at recapitulating that proportion. "
   ]
  },
  {
   "cell_type": "code",
   "execution_count": 2,
   "metadata": {
    "collapsed": true
   },
   "outputs": [],
   "source": [
    "#### python packages ####\n",
    "import pandas as pd\n",
    "import numpy as np \n",
    "import os\n",
    "import sys\n",
    "import seaborn as sns\n",
    "import matplotlib.pyplot as plt\n",
    "from scipy.stats import binom\n",
    "%matplotlib inline\n",
    "\n",
    "######### loading my python modules for deconvolution ########### \n",
    "#### https://github.com/christacaggiano/cfDNA-deconvolution #####\n",
    "\n",
    "# this code needed to load my modules in a jupyter notebook \n",
    "module_path = os.path.abspath(os.path.join('..'))\n",
    "if module_path not in sys.path:\n",
    "    sys.path.append(module_path)\n",
    "\n",
    "from simulation.simulation_utils import *  # various utils for making simulated data \n",
    "from simulation.simulate import generate_simulated_optimization  # takes parameters and makes simulated matrices for optimization \n",
    "from optimization.quadratic_programming_optimization import perform_optimization as qp  # performs quadratic programming optimization\n",
    "from optimization.naive_optimization import perform_optimization as naive  # 'naive' optimization that divides by sum "
   ]
  },
  {
   "cell_type": "markdown",
   "metadata": {},
   "source": [
    "#### Load data\n",
    "\n",
    "Same as in previous set of experiments. "
   ]
  },
  {
   "cell_type": "code",
   "execution_count": 3,
   "metadata": {
    "collapsed": true
   },
   "outputs": [],
   "source": [
    "# Tissues included in this data set, in the order that they appear\n",
    "# neurosphere\tliver\tbrain_germinal\tbrain_hipp\tatrium \tventricle\tthymus \tspleen\tcd34\t4star\n",
    "\n",
    "roadmap_dmrs = pd.read_csv(\"../data/deconvolution_exp1_10_tissues.csv\")  # load in the roadmap dmrs\n",
    "roadmap_dmrs_drop_na = roadmap_dmrs.dropna()  # for now, just drop any missing data. Later experiments will test ways of dealing with Na's more intelligently "
   ]
  },
  {
   "cell_type": "code",
   "execution_count": 4,
   "metadata": {
    "collapsed": true
   },
   "outputs": [],
   "source": [
    "roadmap_dmrs = roadmap_dmrs_drop_na.iloc[:, 3:] # drop chrom information because it's not important for computation \n",
    "roadmap_dmrs[\"var\"] = roadmap_dmrs.var(axis=1, skipna=True)  # calculate row variance \n",
    "roadmap_dmrs_top10000 = roadmap_dmrs.sort_values(by=\"var\", ascending=False).iloc[:10000,:-1]  # take the top 10,000 most variable sites "
   ]
  },
  {
   "cell_type": "code",
   "execution_count": 5,
   "metadata": {
    "collapsed": true
   },
   "outputs": [],
   "source": [
    "reference = roadmap_dmrs_top10000.as_matrix().T"
   ]
  },
  {
   "cell_type": "markdown",
   "metadata": {},
   "source": [
    "### Experiment 2A\n",
    "\n",
    "__*Goal*__: How well can our algorithm estimate tissues *not* contained in the reference panel? \n",
    "\n",
    "**Outline** \n",
    "* Find the two most similar tissues \n",
    "* Eliminate one tissue from the reference and examine whether algorithm picks most similar tissue for the estimation. \n",
    "* Perform across a range of read depths"
   ]
  },
  {
   "cell_type": "markdown",
   "metadata": {},
   "source": [
    "#### Assess similarity"
   ]
  },
  {
   "cell_type": "code",
   "execution_count": 26,
   "metadata": {
    "collapsed": true
   },
   "outputs": [],
   "source": [
    "# pairwise pearson's correlation coefficient between top 10,000 variable sites \n",
    "corr = np.corrcoef(reference) "
   ]
  },
  {
   "cell_type": "code",
   "execution_count": 7,
   "metadata": {},
   "outputs": [
    {
     "data": {
      "image/png": "[encoded data removed]",
      "text/plain": [
       "<matplotlib.figure.Figure at 0x10aa62f28>"
      ]
     },
     "metadata": {},
     "output_type": "display_data"
    }
   ],
   "source": [
    "# plot a heatmap of the correlation coefficients to pick pairs of tissues to test on \n",
    "\n",
    "labels = [\"neurosphere\",\"liver\",\"brain_germinal\",\"brain_hipp\",\"atrium\",\"ventricle\",\"thymus\",\"spleen\",\"cd34\",\"4star\"]\n",
    "sns.heatmap(corr, cmap=\"viridis\", center=0.0, xticklabels=labels, yticklabels=labels)\n",
    "\n",
    "plt.show()"
   ]
  },
  {
   "cell_type": "markdown",
   "metadata": {},
   "source": [
    "__*Plot 1*__: For the top 10,000 variable sites in the roadmap reference, the Pearson's correlation coefficients between each tissue \n",
    "\n",
    "__Observation__: Atrium and ventricle are highly correlated. I am surprised that cd34 cells are so highly correlated with spleen and thymus and that brain is so different than other organs. It seems like 4star is mostly different from everything, neurosphere and brain germinal matrix are very different than thymus/spleen/cd34. "
   ]
  },
  {
   "cell_type": "markdown",
   "metadata": {},
   "source": [
    "#### Remake reference\n",
    "\n",
    "Assume the two most correlated tissues in the reference are atrium and ventricle. Take out atrium and keep ventricle in the reference. Note that variable sites were chosen with both atrium and ventricle. "
   ]
  },
  {
   "cell_type": "code",
   "execution_count": 8,
   "metadata": {
    "collapsed": true
   },
   "outputs": [],
   "source": [
    "atrium = reference[4, :]  # set aside  atrium to make up observations \n",
    "ref_no_atrium = np.delete(reference, [4], axis=0)  # drop atrium from the reference"
   ]
  },
  {
   "cell_type": "markdown",
   "metadata": {},
   "source": [
    "#### Optimization Function\n",
    "\n",
    "Write a simpler optimization master function, since we no longer need to simulate observed as a function of tissue %; instead the observed matrix will simply be the tissue dropped from the reference. "
   ]
  },
  {
   "cell_type": "code",
   "execution_count": 9,
   "metadata": {
    "collapsed": true
   },
   "outputs": [],
   "source": [
    "# instead of simulating observed proprotions, we are going to premake the matrix, since it is no longer just\n",
    "# a function of only the reference \n",
    "\n",
    "def generate_optimization(reference, methylated, unmethylated, method):\n",
    "    \"\"\"\n",
    "    using predefined reference and observed proportions, runs an optimization algorithm of choice \n",
    "    :param reference (np.array) array of methylation observations \n",
    "    :param methylated (np.array)array of methylated counts \n",
    "    :param unmethylated (np.array) array of unmethylated counts \n",
    "    :param method (string) optimization method\n",
    "    \n",
    "    :return estimated proportions  \n",
    "    \n",
    "    \"\"\"\n",
    "    \n",
    "    # create initial proportions estimates \n",
    "    proportions_est = np.zeros((1, reference.shape[0])) + 0.5  \n",
    "    proportions_est = proportions_est / (np.sum(proportions_est))\n",
    "\n",
    "    return method(proportions_est, reference, methylated, unmethylated)"
   ]
  },
  {
   "cell_type": "markdown",
   "metadata": {},
   "source": [
    "#### Parameters"
   ]
  },
  {
   "cell_type": "markdown",
   "metadata": {},
   "source": [
    "Keep parameters simple, as in the first experiments. Perform across our standard read depth range. This time, however, keep the tissue of interest as the ventricle. "
   ]
  },
  {
   "cell_type": "code",
   "execution_count": 10,
   "metadata": {
    "collapsed": true
   },
   "outputs": [],
   "source": [
    "read_depths = [10, 30, 100, 1000]\n",
    "individuals = 1  \n",
    "sites = ref_no_atrium.shape[1] \n",
    "tissue_of_interest = 4  # set ventricle as tissue of interest \n",
    "method = qp \n",
    "noise = 0  \n",
    "replicates = 10 "
   ]
  },
  {
   "cell_type": "markdown",
   "metadata": {},
   "source": [
    "#### Create Observations \n",
    "\n",
    "Create observations that are the proportions of true atrium, drawing from poisson distributions using the various read depths as number of counts to draw from. "
   ]
  },
  {
   "cell_type": "code",
   "execution_count": 263,
   "metadata": {},
   "outputs": [
    {
     "name": "stdout",
     "output_type": "stream",
     "text": [
      "(1, 10000)\n",
      "(9, 10000)\n"
     ]
    }
   ],
   "source": [
    "# start off by defining the true observed as 100% atrium \n",
    "\n",
    "observed = atrium\n",
    "observed = observed.reshape(1, len(atrium))\n",
    "\n",
    "count_matrices = [] \n",
    "\n",
    "for read_depth in read_depths: \n",
    "    depth = generate_depth(sites, individuals, read_depth)\n",
    "    methylated = generate_counts(depth, observed, sites, individuals)  # generate counts using poisson distribution \n",
    "    unmethylated = depth - methylated\n",
    "    \n",
    "    count_matrices.append((methylated, unmethylated))  # keep track of different observations "
   ]
  },
  {
   "cell_type": "markdown",
   "metadata": {},
   "source": [
    "#### Simulation\n",
    "\n",
    "Run simulation for each observed matrix drawn above. "
   ]
  },
  {
   "cell_type": "code",
   "execution_count": 12,
   "metadata": {
    "collapsed": true
   },
   "outputs": [],
   "source": [
    "estimate = []\n",
    "\n",
    "for observed in count_matrices: \n",
    "    methylated, unmethylated = observed\n",
    "    guess = generate_optimization(ref_no_atrium, methylated, unmethylated, qp)\n",
    "    estimate.append(guess) \n"
   ]
  },
  {
   "cell_type": "markdown",
   "metadata": {},
   "source": [
    "#### Plot\n",
    "\n",
    "Plot a simple bar chart of the optimization estimates given for each tissue. "
   ]
  },
  {
   "cell_type": "code",
   "execution_count": 13,
   "metadata": {},
   "outputs": [
    {
     "data": {
      "image/png": "[encoded data removed]",
      "text/plain": [
       "<matplotlib.figure.Figure at 0x1057a0780>"
      ]
     },
     "metadata": {},
     "output_type": "display_data"
    }
   ],
   "source": [
    "# bar plot of each of the estimates \n",
    "# todo, add error bars \n",
    "\n",
    "plt.rcParams.update({'font.size': 12})\n",
    "\n",
    "fig, axes = plt.subplots(1, len(estimate), sharey=True, figsize=(15, 5)) # makes subplots that share a y axis\n",
    "axes.ravel()\n",
    "\n",
    "labels = [\"neurosphere\",\"liver\",\"brain_germinal\",\"brain_hipp\",\"ventricle\",\"thymus\",\"spleen\",\"cd34\",\"4star\"]\n",
    "\n",
    "for i in range(len(estimate)): \n",
    "    sns.barplot(labels, estimate[i], ax=axes[i], palette=\"Paired\")\n",
    "    axes[i].set_xticklabels(labels, rotation=90)\n",
    "    axes[i].set_title(str(read_depths[i]) + \"X\")\n",
    "    \n",
    "fig.text(0.04, 0.5, 'Proportion Estimate', va='center', rotation='vertical')\n",
    "\n",
    "plt.show()\n"
   ]
  },
  {
   "cell_type": "markdown",
   "metadata": {},
   "source": [
    "__*Plot 2*__: Proportion estimate for each tissue at different read depths \n",
    "\n",
    "__Observation__ : This seems mostly what would be expected. Interested in what would be given for more complex mixtures"
   ]
  },
  {
   "cell_type": "code",
   "execution_count": 14,
   "metadata": {
    "collapsed": true
   },
   "outputs": [],
   "source": [
    "# get an idea for the spread of error/correlation, not just the mean \n",
    "\n",
    "all_replicates = []\n",
    "\n",
    "for observed in count_matrices:\n",
    "    guesses = []\n",
    "    for i in range(replicates): \n",
    "        methylated, unmethylated = observed\n",
    "        guess = generate_optimization(ref_no_atrium, methylated, unmethylated, qp)\n",
    "        guesses.append(guess) \n",
    "        \n",
    "    all_replicates.append(guesses)\n",
    "    "
   ]
  },
  {
   "cell_type": "code",
   "execution_count": 15,
   "metadata": {
    "collapsed": true
   },
   "outputs": [],
   "source": [
    "# make array for better plotting \n",
    "a = np.array(all_replicates)"
   ]
  },
  {
   "cell_type": "code",
   "execution_count": 16,
   "metadata": {},
   "outputs": [
    {
     "data": {
      "image/png": "[encoded data removed]",
      "text/plain": [
       "<matplotlib.figure.Figure at 0x10acf9ac8>"
      ]
     },
     "metadata": {},
     "output_type": "display_data"
    }
   ],
   "source": [
    "# make box plot of the error over 10 replicates \n",
    "\n",
    "plt.rcParams.update({'font.size': 12})\n",
    "\n",
    "labels = [\"neurosphere\",\"liver\",\"brain_germinal\",\"brain_hipp\",\"ventricle\",\"thymus\",\"spleen\",\"cd34\",\"4star\"]\n",
    "\n",
    "fig, axes = plt.subplots(1, len(a), sharey=True, figsize=(15, 5)) # makes subplots that share a y axis\n",
    "axes.ravel()\n",
    "\n",
    "colors = [\"royalblue\", \"darkorange\", \"green\", \"tomato\"]  # set colors (default is white)\n",
    "for i, c in zip(range(len(a)), colors): \n",
    "    \n",
    "    axes[i].boxplot(a[i], patch_artist=True, # patch artist necessary to set color \n",
    "            boxprops=dict(facecolor=c, color=c),\n",
    "            capprops=dict(color=c),\n",
    "            whiskerprops=dict(color=c),\n",
    "            flierprops=dict(color=c, markeredgecolor=c),\n",
    "            medianprops=dict(color=c))\n",
    "    \n",
    "    axes[i].set_title(str(read_depths[i]) + \"X\")\n",
    "    axes[i].set_xticklabels(labels, rotation=90)\n",
    "\n",
    "    \n",
    "# gives commmon axis labels \n",
    "fig.text(0.04, 0.5, 'Tissue Estimate', va='center', rotation='vertical')\n",
    "\n",
    "plt.show()\n",
    "\n"
   ]
  },
  {
   "cell_type": "markdown",
   "metadata": {},
   "source": [
    "__*Plot 3*__: Mean estimate for ten replicates for plot 8 \n",
    "\n",
    "__Observation__: I'm a little surprised that there is no variation between replicates ?"
   ]
  },
  {
   "cell_type": "markdown",
   "metadata": {},
   "source": [
    "### Experiment 2B \n",
    "\n",
    "**Goal**: highlight whether it is able to predict brain, even when the tissue of interest was not used in calculating the top sites \n",
    "* Perform the same experiment as 2A, but leave out brain_germinal\n",
    "* This time, however, do not include brain germinal in the calculation of the top 10,000 variable sites"
   ]
  },
  {
   "cell_type": "markdown",
   "metadata": {},
   "source": [
    "#### Load data"
   ]
  },
  {
   "cell_type": "code",
   "execution_count": 283,
   "metadata": {
    "collapsed": true
   },
   "outputs": [],
   "source": [
    "# Tissues included in this data set, in the order that they appear\n",
    "# neurosphere\tliver\tbrain_germinal\tbrain_hipp\tatrium \tventricle\tthymus \tspleen\tcd34\t4star\n",
    "\n",
    "roadmap_dmrs = pd.read_csv(\"../data/deconvolution_exp1_10_tissues.csv\")\n",
    "roadmap_dmrs_drop_na = roadmap_dmrs.dropna().iloc[:, 3:] "
   ]
  },
  {
   "cell_type": "code",
   "execution_count": 286,
   "metadata": {
    "collapsed": true
   },
   "outputs": [],
   "source": [
    "brain_germinal = roadmap_dmrs_drop_na.iloc[:, 2]  # set aside  brain_germinal to make up observations \n",
    "ref_no_bg = roadmap_dmrs_drop_na.drop(roadmap_dmrs_drop_na.columns[2], axis=1)  # drop brain_germinal "
   ]
  },
  {
   "cell_type": "code",
   "execution_count": 287,
   "metadata": {
    "collapsed": true
   },
   "outputs": [],
   "source": [
    "ref_no_bg[\"var\"] = ref_no_bg.var(axis=1, skipna=True)  \n",
    "ref_no_bg_top10000 = ref_no_bg.sort_values(by=\"var\", ascending=False).iloc[:10000,:-1] "
   ]
  },
  {
   "cell_type": "markdown",
   "metadata": {},
   "source": [
    "#### Make observation and reference data"
   ]
  },
  {
   "cell_type": "code",
   "execution_count": 291,
   "metadata": {
    "collapsed": true
   },
   "outputs": [],
   "source": [
    "reference = ref_no_bg_top10000.as_matrix().T "
   ]
  },
  {
   "cell_type": "code",
   "execution_count": 292,
   "metadata": {
    "collapsed": true
   },
   "outputs": [],
   "source": [
    "brain_germinal_var = brain_germinal[brain_germinal.index.isin(roadmap_dmrs_top10000.index)]\n",
    "observed = brain_germinal_var.values"
   ]
  },
  {
   "cell_type": "code",
   "execution_count": 293,
   "metadata": {
    "collapsed": true
   },
   "outputs": [],
   "source": [
    "observed = observed.reshape(1, reference.shape[1])"
   ]
  },
  {
   "cell_type": "markdown",
   "metadata": {},
   "source": [
    "#### Parameters"
   ]
  },
  {
   "cell_type": "code",
   "execution_count": 294,
   "metadata": {
    "collapsed": true
   },
   "outputs": [],
   "source": [
    "read_depths = [10, 30, 100, 1000]\n",
    "individuals = 1  \n",
    "sites = reference.shape[1] \n",
    "method = qp \n",
    "noise = 0  "
   ]
  },
  {
   "cell_type": "code",
   "execution_count": 295,
   "metadata": {
    "collapsed": true
   },
   "outputs": [],
   "source": [
    "count_matrices = [] \n",
    "\n",
    "for read_depth in read_depths: \n",
    "    depth = generate_depth(sites, individuals, read_depth)\n",
    "    methylated = generate_counts(depth, observed, sites, individuals)  # generate counts using poisson distribution \n",
    "    unmethylated = depth - methylated\n",
    "    \n",
    "    count_matrices.append((methylated, unmethylated))  # keep track of different observations "
   ]
  },
  {
   "cell_type": "markdown",
   "metadata": {},
   "source": [
    "#### Run Optimization"
   ]
  },
  {
   "cell_type": "code",
   "execution_count": 296,
   "metadata": {
    "collapsed": true
   },
   "outputs": [],
   "source": [
    "guesses = []\n",
    "\n",
    "for count in count_matrices:\n",
    "    methylated, unmethylated = count\n",
    "    guess = generate_optimization(reference, methylated, unmethylated, qp)\n",
    "    guesses.append(guess)\n",
    "        "
   ]
  },
  {
   "cell_type": "markdown",
   "metadata": {},
   "source": [
    "#### Plot estimates"
   ]
  },
  {
   "cell_type": "code",
   "execution_count": 297,
   "metadata": {},
   "outputs": [
    {
     "data": {
      "image/png": "[encoded data removed]",
      "text/plain": [
       "<matplotlib.figure.Figure at 0x10b2eb518>"
      ]
     },
     "metadata": {},
     "output_type": "display_data"
    }
   ],
   "source": [
    "# bar plot of each of the estimates \n",
    "# todo, add error bars \n",
    "\n",
    "plt.rcParams.update({'font.size': 12})\n",
    "\n",
    "fig, axes = plt.subplots(1, len(guesses), sharey=True, figsize=(15, 5)) # makes subplots that share a y axis\n",
    "axes.ravel()\n",
    "\n",
    "labels = [\"neurosphere\",\"liver\",\"brain_hipp\", \"atrium\", \"ventricle\",\"thymus\",\"spleen\",\"cd34\",\"4star\"]\n",
    "depth_titles = [\"10x\", \"30x\", \"100x\", \"1000X\"]\n",
    "\n",
    "colors = [\"royalblue\", \"darkorange\", \"green\", \"tomato\"]  # set colors \n",
    "\n",
    "for i in range(len(guesses)): \n",
    "    sns.barplot(labels, guesses[i], ax=axes[i], palette=\"Paired\")\n",
    "    axes[i].set_xticklabels(labels, rotation=90)\n",
    "    axes[i].set_title(str(read_depths[i]) + \"X\")\n",
    "        \n"
   ]
  },
  {
   "cell_type": "markdown",
   "metadata": {},
   "source": [
    "**_Plot 4_**: estimates for observed mixture that is 100% brain germinal matrix. Seems to do a poor job when the brain germinal sites were not used to pick informative sites. "
   ]
  },
  {
   "cell_type": "code",
   "execution_count": 287,
   "metadata": {
    "collapsed": true
   },
   "outputs": [],
   "source": [
    "roadmap_dmrs_drop_na[\"var\"] = roadmap_dmrs_drop_na.var(axis=1, skipna=True)  \n",
    "roadmap_dmrs_top10000 = roadmap_dmrs_drop_na.sort_values(by=\"var\", ascending=False).iloc[:10000,:-1] "
   ]
  },
  {
   "cell_type": "code",
   "execution_count": 298,
   "metadata": {
    "collapsed": true
   },
   "outputs": [],
   "source": [
    "# Tissues included in this data set, in the order that they appear\n",
    "# neurosphere\tliver\tbrain_germinal\tbrain_hipp\tatrium \tventricle\tthymus \tspleen\tcd34\t4star\n",
    "\n",
    "roadmap_dmrs = pd.read_csv(\"../data/deconvolution_exp1_10_tissues.csv\")\n",
    "roadmap_dmrs_drop_na = roadmap_dmrs.dropna().iloc[:, 3:] "
   ]
  },
  {
   "cell_type": "markdown",
   "metadata": {},
   "source": [
    "#### Make observation and reference data"
   ]
  },
  {
   "cell_type": "code",
   "execution_count": 316,
   "metadata": {
    "collapsed": true
   },
   "outputs": [],
   "source": [
    "ref_no_bg = roadmap_dmrs_top10000.drop(roadmap_dmrs_drop_na.columns[2], axis=1)  # drop brain_germinal \n",
    "ref_no_bg = ref_no_bg.iloc[:,3:]\n",
    "reference = ref_no_bg.as_matrix().T"
   ]
  },
  {
   "cell_type": "code",
   "execution_count": 317,
   "metadata": {
    "collapsed": true
   },
   "outputs": [],
   "source": [
    "brain_germinal_var = brain_germinal[brain_germinal.index.isin(roadmap_dmrs_top10000.index)]\n",
    "observed = brain_germinal_var.values"
   ]
  },
  {
   "cell_type": "code",
   "execution_count": 318,
   "metadata": {
    "collapsed": true
   },
   "outputs": [],
   "source": [
    "observed = observed.reshape(1, reference.shape[1])"
   ]
  },
  {
   "cell_type": "code",
   "execution_count": 319,
   "metadata": {
    "collapsed": true
   },
   "outputs": [],
   "source": [
    "read_depths = [10, 30, 100, 1000]\n",
    "individuals = 1  \n",
    "sites = reference.shape[1] \n",
    "method = qp \n",
    "noise = 0  "
   ]
  },
  {
   "cell_type": "code",
   "execution_count": 320,
   "metadata": {
    "collapsed": true
   },
   "outputs": [],
   "source": [
    "count_matrices = [] \n",
    "\n",
    "for read_depth in read_depths: \n",
    "    depth = generate_depth(sites, individuals, read_depth)\n",
    "    methylated = generate_counts(depth, observed, sites, individuals)  # generate counts using poisson distribution \n",
    "    unmethylated = depth - methylated\n",
    "    \n",
    "    count_matrices.append((methylated, unmethylated))  # keep track of different observations "
   ]
  },
  {
   "cell_type": "markdown",
   "metadata": {},
   "source": [
    "#### Run Optimization"
   ]
  },
  {
   "cell_type": "code",
   "execution_count": 321,
   "metadata": {
    "collapsed": true
   },
   "outputs": [],
   "source": [
    "guesses = []\n",
    "\n",
    "for count in count_matrices:\n",
    "    methylated, unmethylated = count\n",
    "    guess = generate_optimization(reference, methylated, unmethylated, qp)\n",
    "    guesses.append(guess)\n",
    "        "
   ]
  },
  {
   "cell_type": "markdown",
   "metadata": {},
   "source": [
    "#### Plot estimates"
   ]
  },
  {
   "cell_type": "code",
   "execution_count": 322,
   "metadata": {},
   "outputs": [
    {
     "data": {
      "image/png": "[encoded data removed]",
      "text/plain": [
       "<matplotlib.figure.Figure at 0x10c291668>"
      ]
     },
     "metadata": {},
     "output_type": "display_data"
    }
   ],
   "source": [
    "# bar plot of each of the estimates \n",
    "# todo, add error bars \n",
    "\n",
    "plt.rcParams.update({'font.size': 12})\n",
    "\n",
    "fig, axes = plt.subplots(1, len(guesses), sharey=True, figsize=(15, 5)) # makes subplots that share a y axis\n",
    "axes.ravel()\n",
    "\n",
    "labels = [\"neurosphere\",\"liver\",\"brain_hipp\", \"atrium\", \"ventricle\",\"thymus\",\"spleen\",\"cd34\",\"4star\"]\n",
    "depth_titles = [\"10x\", \"30x\", \"100x\", \"1000X\"]\n",
    "\n",
    "colors = [\"royalblue\", \"darkorange\", \"green\", \"tomato\"]  # set colors \n",
    "\n",
    "for i in range(len(guesses)): \n",
    "    sns.barplot(labels, guesses[i], ax=axes[i], palette=\"Paired\")\n",
    "    axes[i].set_xticklabels(labels, rotation=90)\n",
    "    axes[i].set_title(str(read_depths[i]) + \"X\")\n",
    "        \n"
   ]
  },
  {
   "cell_type": "code",
   "execution_count": null,
   "metadata": {
    "collapsed": true
   },
   "outputs": [],
   "source": []
  },
  {
   "cell_type": "markdown",
   "metadata": {},
   "source": [
    "### Experiment 2B \n",
    "* using the same parameters, but instead of a tissue completely outside the reference panel, use a biological replicate of one tissue "
   ]
  },
  {
   "cell_type": "markdown",
   "metadata": {},
   "source": [
    "#### Reload Data"
   ]
  },
  {
   "cell_type": "code",
   "execution_count": 17,
   "metadata": {
    "collapsed": true
   },
   "outputs": [],
   "source": [
    "# Tissues included in this data set, in the order that they appear\n",
    "\n",
    "roadmap_dmrs = pd.read_csv(\"../data/deconvolution_exp2_10_tissues_rep.csv\")  # load in the roadmap dmrs\n",
    "roadmap_dmrs_drop_na = roadmap_dmrs.dropna()  # for now, just drop any missing data. Later experiments will test ways of dealing with Na's more intelligently "
   ]
  },
  {
   "cell_type": "code",
   "execution_count": 45,
   "metadata": {
    "collapsed": true
   },
   "outputs": [],
   "source": [
    "# reload data with the new biological replicate, and process the data similarly to experiment 1 \n",
    "\n",
    "roadmap_dmrs_no_rep = roadmap_dmrs_drop_na.iloc[:, 3:-1] # drop replicate column \n",
    "roadmap_dmrs_no_rep[\"var\"] = roadmap_dmrs_no_rep.var(axis=1, skipna=True)  # calculate row variance \n",
    "roadmap_dmrs_top10000 = roadmap_dmrs_no_rep.sort_values(by=\"var\", ascending=False).iloc[:10000,:-1]  # take the top 10,000 most variable sites "
   ]
  },
  {
   "cell_type": "markdown",
   "metadata": {},
   "source": [
    "#### Format replicate"
   ]
  },
  {
   "cell_type": "code",
   "execution_count": 46,
   "metadata": {
    "collapsed": true
   },
   "outputs": [],
   "source": [
    "brain_rep = roadmap_dmrs_drop_na.iloc[:, 3]  # make the replicate with the same dimesions as the top 10,000 variable sites\n",
    "brain_rep_var = brain_rep[brain_rep.index.isin(roadmap_dmrs_top10000.index)]"
   ]
  },
  {
   "cell_type": "code",
   "execution_count": 47,
   "metadata": {
    "collapsed": true
   },
   "outputs": [],
   "source": [
    "rep_column = brain_rep_var.values.reshape(10000, 1)\n",
    "roadmap_dmrs_top10000[\"rep\"] = rep_column"
   ]
  },
  {
   "cell_type": "markdown",
   "metadata": {},
   "source": [
    "#### Plot correlations \n",
    "\n",
    "Assess how similar the biological replicate is. Replicate marked as \"rep\" should be a biological replicate of brain_hipp. "
   ]
  },
  {
   "cell_type": "code",
   "execution_count": 49,
   "metadata": {
    "collapsed": true
   },
   "outputs": [],
   "source": [
    "# pairwise pearson's correlation coefficient between top 10,000 variable sites \n",
    "corr = np.corrcoef(roadmap_dmrs_top10000.as_matrix().T) "
   ]
  },
  {
   "cell_type": "code",
   "execution_count": 51,
   "metadata": {},
   "outputs": [
    {
     "data": {
      "image/png": "[encoded data removed]",
      "text/plain": [
       "<matplotlib.figure.Figure at 0x10cd4b7f0>"
      ]
     },
     "metadata": {},
     "output_type": "display_data"
    }
   ],
   "source": [
    "# plot a heatmap of the correlation coefficients to pick pairs of tissues to test on \n",
    "\n",
    "labels = [\"neurosphere\",\"liver\",\"brain_germinal\",\"brain_hipp\",\"atrium\",\"ventricle\",\"thymus\",\"spleen\",\"cd34\",\"4star\", \"rep\"]\n",
    "sns.heatmap(corr, cmap=\"viridis\", center=0.0, xticklabels=labels, yticklabels=labels)\n",
    "\n",
    "plt.show()"
   ]
  },
  {
   "cell_type": "markdown",
   "metadata": {},
   "source": [
    "**_Plot 10_**: the replicate looks very poorly correlated with all tissues across the sites chosen. Perhaps suggests there needs to be a better way to pick sites overall? "
   ]
  },
  {
   "cell_type": "markdown",
   "metadata": {},
   "source": [
    "#### Parameters\n",
    "\n",
    "Make replicate the observed and rest of matrix the reference "
   ]
  },
  {
   "cell_type": "code",
   "execution_count": 119,
   "metadata": {
    "collapsed": true
   },
   "outputs": [],
   "source": [
    "roadmap_dmrs_top10000 = roadmap_dmrs_top10000.iloc[:, :-1]"
   ]
  },
  {
   "cell_type": "code",
   "execution_count": 120,
   "metadata": {
    "collapsed": true
   },
   "outputs": [],
   "source": [
    "observed = brain_rep_var.as_matrix().T # keep as a column vector\n",
    "reference = roadmap_dmrs_top10000.as_matrix().T  # transpose for computation "
   ]
  },
  {
   "cell_type": "code",
   "execution_count": 121,
   "metadata": {
    "collapsed": true
   },
   "outputs": [],
   "source": [
    "read_depths = [10, 30, 100, 1000]\n",
    "individuals = 1  \n",
    "sites = reference.shape[1]  \n",
    "method = qp \n",
    "replicates = 1"
   ]
  },
  {
   "cell_type": "code",
   "execution_count": 125,
   "metadata": {
    "collapsed": true
   },
   "outputs": [],
   "source": [
    "observed = observed.reshape(1, len(brain_rep_var))\n",
    "count_matrices = [] \n",
    "\n",
    "for read_depth in read_depths: \n",
    "    depth = generate_depth(sites, individuals, read_depth)\n",
    "    methylated = generate_counts(depth, observed, sites, individuals)\n",
    "    unmethylated = depth - methylated\n",
    "    \n",
    "    count_matrices.append((methylated, unmethylated))"
   ]
  },
  {
   "cell_type": "markdown",
   "metadata": {},
   "source": [
    "#### Run Optimization"
   ]
  },
  {
   "cell_type": "code",
   "execution_count": 63,
   "metadata": {
    "collapsed": true
   },
   "outputs": [],
   "source": [
    "estimates = []\n",
    "guesses = []\n",
    "truth = np.zeros((1, len(reference)))\n",
    "truth[:,tissue_of_interest] = 1 \n",
    "\n",
    "for observed in count_matrices:\n",
    "    error = 0 \n",
    "    for i in range(replicates): \n",
    "        methylated, unmethylated = observed\n",
    "        guess = generate_optimization(reference, methylated, unmethylated, qp)\n",
    "        guesses.append(guess)\n",
    "        error += (np.corrcoef(truth, guess)[0][1]) \n",
    "    estimates.append(error/replicates)"
   ]
  },
  {
   "cell_type": "markdown",
   "metadata": {},
   "source": [
    "#### Plot estimates"
   ]
  },
  {
   "cell_type": "code",
   "execution_count": 64,
   "metadata": {},
   "outputs": [
    {
     "data": {
      "image/png": "[encoded data removed]",
      "text/plain": [
       "<matplotlib.figure.Figure at 0x10be3ff98>"
      ]
     },
     "metadata": {},
     "output_type": "display_data"
    }
   ],
   "source": [
    "# bar plot of each of the estimates \n",
    "# todo, add error bars \n",
    "\n",
    "plt.rcParams.update({'font.size': 12})\n",
    "\n",
    "fig, axes = plt.subplots(1, len(guesses), sharey=True, figsize=(15, 5)) # makes subplots that share a y axis\n",
    "axes.ravel()\n",
    "\n",
    "labels = [\"neurosphere\",\"liver\",\"brain_germinal\",\"brain_hipp\", \"atrium\", \"ventricle\",\"thymus\",\"spleen\",\"cd34\",\"4star\"]\n",
    "depth_titles = [\"10x\", \"30x\", \"100x\", \"1000X\"]\n",
    "\n",
    "colors = [\"royalblue\", \"darkorange\", \"green\", \"tomato\"]  # set colors \n",
    "\n",
    "for i in range(len(guesses)): \n",
    "    sns.barplot(labels, guesses[i], ax=axes[i], palette=\"Paired\")\n",
    "    axes[i].set_xticklabels(labels, rotation=90)\n",
    "    axes[i].set_title(str(read_depths[i]) + \"X\")\n",
    "        \n"
   ]
  },
  {
   "cell_type": "markdown",
   "metadata": {},
   "source": [
    "**_Plot 11_**: Because the replicate is so poorly correlated, it makes sense that the algorithm doesn't really know what to guess. Proimsing that at least brain_germinal is consistently the highest, even though the replicate was over brain hippocampus? "
   ]
  },
  {
   "cell_type": "code",
   "execution_count": 65,
   "metadata": {},
   "outputs": [
    {
     "data": {
      "text/plain": [
       "<matplotlib.text.Text at 0x10b2d9240>"
      ]
     },
     "execution_count": 65,
     "metadata": {},
     "output_type": "execute_result"
    },
    {
     "data": {
      "image/png": "[encoded data removed]",
      "text/plain": [
       "<matplotlib.figure.Figure at 0x10bd7bf60>"
      ]
     },
     "metadata": {},
     "output_type": "display_data"
    }
   ],
   "source": [
    "# plot the correlation vs read depth \n",
    "\n",
    "plt.rcParams.update({'font.size': 12})\n",
    "\n",
    "plt.plot(read_depths, estimates, '-o')\n",
    "plt.xscale(\"log\")\n",
    "    \n",
    "plt.xlabel(\"Log Read Depth\")\n",
    "plt.ylabel(\"Correlation\")\n"
   ]
  },
  {
   "cell_type": "markdown",
   "metadata": {
    "collapsed": true
   },
   "source": [
    "**_Plot 12_**: No real trend in the correlation "
   ]
  },
  {
   "cell_type": "markdown",
   "metadata": {
    "collapsed": true
   },
   "source": [
    "### Experiment 2c\n",
    "\n",
    "* Use the most unrelated tissue (in this case, 4star) as the observed and remove from reference matrix. Guessing it will be similar to the biological replicate above. "
   ]
  },
  {
   "cell_type": "markdown",
   "metadata": {},
   "source": [
    "#### Reread data "
   ]
  },
  {
   "cell_type": "code",
   "execution_count": 176,
   "metadata": {
    "collapsed": true
   },
   "outputs": [],
   "source": [
    "# Tissues included in this data set, in the order that they appear\n",
    "\n",
    "roadmap_dmrs = pd.read_csv(\"../data/deconvolution_exp2_10_tissues_rep.csv\")  # load in the roadmap dmrs\n",
    "roadmap_dmrs_drop_na = roadmap_dmrs.dropna() # for now, just drop any missing data. Later experiments will test ways of dealing with Na's more intelligently "
   ]
  },
  {
   "cell_type": "code",
   "execution_count": 177,
   "metadata": {
    "collapsed": true
   },
   "outputs": [],
   "source": [
    "# drop the 4star column, calculate top 10,000 most variable sites\n",
    "\n",
    "roadmap_dmrs_no_rep = roadmap_dmrs_drop_na.drop(roadmap_dmrs_drop_na.columns[-2:], axis=1) # drop 4star \n",
    "roadmap_dmrs_no_rep[\"var\"] = roadmap_dmrs_no_rep.var(axis=1, skipna=True)   \n",
    "roadmap_dmrs_top10000 = roadmap_dmrs_no_rep.sort_values(by=\"var\", ascending=False).iloc[:10000,3:-1] "
   ]
  },
  {
   "cell_type": "markdown",
   "metadata": {},
   "source": [
    "#### Format observed \n",
    "\n",
    "Format the 4star data to be in the same format as observed (similar as replicate above) "
   ]
  },
  {
   "cell_type": "code",
   "execution_count": 178,
   "metadata": {
    "collapsed": true
   },
   "outputs": [],
   "source": [
    "four_star = roadmap_dmrs_drop_na.iloc[:, -2]  # make the replicate with the same dimesions as the top 10,000 variable sites\n",
    "four_star_var = four_star[four_star.index.isin(roadmap_dmrs_top10000.index)]"
   ]
  },
  {
   "cell_type": "code",
   "execution_count": 179,
   "metadata": {
    "collapsed": true
   },
   "outputs": [],
   "source": [
    "observed = four_star_var.as_matrix().T # keep as a column vector\n",
    "reference = roadmap_dmrs_top10000.as_matrix().T  # transpose for computation "
   ]
  },
  {
   "cell_type": "markdown",
   "metadata": {},
   "source": [
    "#### Parameters"
   ]
  },
  {
   "cell_type": "code",
   "execution_count": 181,
   "metadata": {
    "collapsed": true
   },
   "outputs": [],
   "source": [
    "read_depths = [10, 30, 100, 1000]\n",
    "individuals = 1 \n",
    "sites = reference.shape[1]  \n",
    "method = qp \n",
    "replicates = 1"
   ]
  },
  {
   "cell_type": "markdown",
   "metadata": {},
   "source": [
    "#### Count Matrices "
   ]
  },
  {
   "cell_type": "code",
   "execution_count": 182,
   "metadata": {
    "collapsed": true
   },
   "outputs": [],
   "source": [
    "observed = observed.reshape(1, len(brain_rep_var))\n",
    "count_matrices = [] \n",
    "\n",
    "for read_depth in read_depths: \n",
    "    depth = generate_depth(sites, individuals, read_depth)\n",
    "    methylated = generate_counts(depth, observed, sites, individuals)\n",
    "    unmethylated = depth - methylated\n",
    "    \n",
    "    count_matrices.append((methylated, unmethylated))"
   ]
  },
  {
   "cell_type": "markdown",
   "metadata": {},
   "source": [
    "#### Run optimization "
   ]
  },
  {
   "cell_type": "code",
   "execution_count": 183,
   "metadata": {
    "collapsed": true
   },
   "outputs": [],
   "source": [
    "estimates = []\n",
    "guesses = []\n",
    "\n",
    "for observed in count_matrices:\n",
    "\n",
    "    for i in range(replicates): \n",
    "        methylated, unmethylated = observed\n",
    "        guess = generate_optimization(reference, methylated, unmethylated, qp)\n",
    "        guesses.append(guess)\n"
   ]
  },
  {
   "cell_type": "markdown",
   "metadata": {},
   "source": [
    "#### Plot "
   ]
  },
  {
   "cell_type": "code",
   "execution_count": 184,
   "metadata": {},
   "outputs": [
    {
     "data": {
      "image/png": "[encoded data removed]",
      "text/plain": [
       "<matplotlib.figure.Figure at 0x10ca8fdd8>"
      ]
     },
     "metadata": {},
     "output_type": "display_data"
    }
   ],
   "source": [
    "# bar plot of each of the estimates \n",
    "# todo, add error bars \n",
    "\n",
    "plt.rcParams.update({'font.size': 12})\n",
    "\n",
    "fig, axes = plt.subplots(1, len(guesses), sharey=True, figsize=(15, 5)) # makes subplots that share a y axis\n",
    "axes.ravel()\n",
    "\n",
    "labels = [\"neurosphere\",\"liver\",\"brain_germinal\",\"brain_hipp\", \"atrium\", \"ventricle\",\"thymus\",\"spleen\",\"cd34\"]\n",
    "depth_titles = [\"10x\", \"30x\", \"100x\", \"1000X\"]\n",
    "\n",
    "colors = [\"royalblue\", \"darkorange\", \"green\", \"tomato\"]  # set colors \n",
    "\n",
    "for i in range(len(guesses)): \n",
    "    sns.barplot(labels, guesses[i], ax=axes[i], palette=\"Paired\")\n",
    "    axes[i].set_xticklabels(labels, rotation=90)\n",
    "    axes[i].set_title(str(read_depths[i]) + \"X\")\n",
    "        \n"
   ]
  },
  {
   "cell_type": "markdown",
   "metadata": {},
   "source": [
    "**_Plot 12_**: Seems fairly random as expected. "
   ]
  }
 ],
 "metadata": {
  "kernelspec": {
   "display_name": "Python 3",
   "language": "python",
   "name": "python3"
  },
  "language_info": {
   "codemirror_mode": {
    "name": "ipython",
    "version": 3
   },
   "file_extension": ".py",
   "mimetype": "text/x-python",
   "name": "python",
   "nbconvert_exporter": "python",
   "pygments_lexer": "ipython3",
   "version": "3.6.5"
  }
 },
 "nbformat": 4,
 "nbformat_minor": 2
}
