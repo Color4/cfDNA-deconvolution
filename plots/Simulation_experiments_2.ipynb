{
 "cells": [
  {
   "cell_type": "markdown",
   "metadata": {},
   "source": [
    "## Deconvolution Simulation Experiments 2\n",
    "#### Christa Caggiano \n",
    "#### July 18th 2018 \n",
    "\n",
    "\n",
    "Simulations for cfDNA tissue of origin deconvolution. Given an observed matrix of methylation counts for each CpG from whole genome bisulfite sequencing, and a reference matrix of the cannonical proportion methylation for each CpG in each tissue, estimates how much of the cfDNA comes from each tissue in the reference. \n",
    "\n",
    "These simulations generate a variety of 'true' proportions and test how well our current algorithm is at recapitulating that proportion. "
   ]
  },
  {
   "cell_type": "code",
   "execution_count": 2,
   "metadata": {
    "collapsed": true
   },
   "outputs": [],
   "source": [
    "#### python packages ####\n",
    "import pandas as pd\n",
    "import numpy as np \n",
    "import os\n",
    "import sys\n",
    "import seaborn as sns\n",
    "import matplotlib.pyplot as plt\n",
    "from scipy.stats import binom\n",
    "%matplotlib inline\n",
    "\n",
    "######### loading my python modules for deconvolution ########### \n",
    "#### https://github.com/christacaggiano/cfDNA-deconvolution #####\n",
    "\n",
    "# this code needed to load my modules in a jupyter notebook \n",
    "module_path = os.path.abspath(os.path.join('..'))\n",
    "if module_path not in sys.path:\n",
    "    sys.path.append(module_path)\n",
    "\n",
    "from simulation.simulation_utils import *  # various utils for making simulated data \n",
    "from simulation.simulate import generate_simulated_optimization  # takes parameters and makes simulated matrices for optimization \n",
    "from optimization.quadratic_programming_optimization import perform_optimization as qp  # performs quadratic programming optimization\n",
    "from optimization.naive_optimization import perform_optimization as naive  # 'naive' optimization that divides by sum "
   ]
  },
  {
   "cell_type": "markdown",
   "metadata": {},
   "source": [
    "#### Load data\n",
    "\n",
    "Same as in previous set of experiments. "
   ]
  },
  {
   "cell_type": "code",
   "execution_count": 3,
   "metadata": {
    "collapsed": true
   },
   "outputs": [],
   "source": [
    "# Tissues included in this data set, in the order that they appear\n",
    "# neurosphere\tliver\tbrain_germinal\tbrain_hipp\tatrium \tventricle\tthymus \tspleen\tcd34\t4star\n",
    "\n",
    "roadmap_dmrs = pd.read_csv(\"../data/deconvolution_exp1_10_tissues.csv\")  # load in the roadmap dmrs\n",
    "roadmap_dmrs_drop_na = roadmap_dmrs.dropna()  # for now, just drop any missing data. Later experiments will test ways of dealing with Na's more intelligently "
   ]
  },
  {
   "cell_type": "code",
   "execution_count": 4,
   "metadata": {
    "collapsed": true
   },
   "outputs": [],
   "source": [
    "roadmap_dmrs = roadmap_dmrs_drop_na.iloc[:, 3:] # drop chrom information because it's not important for computation \n",
    "roadmap_dmrs[\"var\"] = roadmap_dmrs.var(axis=1, skipna=True)  # calculate row variance \n",
    "roadmap_dmrs_top10000 = roadmap_dmrs.sort_values(by=\"var\", ascending=False).iloc[:10000,:-1]  # take the top 10,000 most variable sites "
   ]
  },
  {
   "cell_type": "code",
   "execution_count": 5,
   "metadata": {
    "collapsed": true
   },
   "outputs": [],
   "source": [
    "reference = roadmap_dmrs_top10000.as_matrix().T"
   ]
  },
  {
   "cell_type": "markdown",
   "metadata": {},
   "source": [
    "#### Experiment 2A\n",
    "\n",
    "__*Goal*__: How well can our algorithm estimate tissues *not* contained in the reference panel? \n",
    "\n",
    "**Outline** \n",
    "* Find the two most similar tissues \n",
    "* Eliminate one tissue from the reference and examine whether algorithm picks most similar tissue for the estimation. \n",
    "* Perform across a range of read depths"
   ]
  },
  {
   "cell_type": "markdown",
   "metadata": {},
   "source": [
    "#### Assess similarity"
   ]
  },
  {
   "cell_type": "code",
   "execution_count": 6,
   "metadata": {
    "collapsed": true
   },
   "outputs": [],
   "source": [
    "# pairwise pearson's correlation coefficient between top 10,000 variable sites \n",
    "corr = np.corrcoef(reference) "
   ]
  },
  {
   "cell_type": "code",
   "execution_count": 7,
   "metadata": {},
   "outputs": [
    {
     "data": {
      "image/png": "[encoded data removed]",
      "text/plain": [
       "<matplotlib.figure.Figure at 0x1a17ccbb00>"
      ]
     },
     "metadata": {},
     "output_type": "display_data"
    }
   ],
   "source": [
    "# plot a heatmap of the correlation coefficients to pick pairs of tissues to test on \n",
    "\n",
    "labels = [\"neurosphere\",\"liver\",\"brain_germinal\",\"brain_hipp\",\"atrium\",\"ventricle\",\"thymus\",\"spleen\",\"cd34\",\"4star\"]\n",
    "sns.heatmap(corr, cmap=\"viridis\", center=0.0, xticklabels=labels, yticklabels=labels)\n",
    "\n",
    "plt.show()"
   ]
  },
  {
   "cell_type": "markdown",
   "metadata": {},
   "source": [
    "__*Plot 1*__: For the top 10,000 variable sites in the roadmap reference, the Pearson's correlation coefficients between each tissue \n",
    "\n",
    "__Observation__: Atrium and ventricle are highly correlated. I am surprised that cd34 cells are so highly correlated with spleen and thymus and that brain is so different than other organs. It seems like 4star is mostly different from everything, neurosphere and brain germinal matrix are very different than thymus/spleen/cd34. "
   ]
  },
  {
   "cell_type": "markdown",
   "metadata": {},
   "source": [
    "#### Remake reference\n",
    "\n",
    "Assume the two most correlated tissues in the reference are atrium and ventricle. Take out atrium and keep ventricle in the reference. "
   ]
  },
  {
   "cell_type": "code",
   "execution_count": 8,
   "metadata": {
    "collapsed": true
   },
   "outputs": [],
   "source": [
    "atrium = reference[4, :]  # set aside  atrium to make up observations \n",
    "ref_no_atrium = np.delete(reference, [4], axis=0)  # drop atrium from the reference "
   ]
  },
  {
   "cell_type": "markdown",
   "metadata": {},
   "source": [
    "#### Optimization Function\n",
    "\n",
    "Write a simpler optimization master function, since we no longer need to simulate observed as a function of tissue %; instead the observed matrix will simply be the tissue dropped from the reference. "
   ]
  },
  {
   "cell_type": "code",
   "execution_count": 9,
   "metadata": {
    "collapsed": true
   },
   "outputs": [],
   "source": [
    "# instead of simulating observed proprotions, we are going to premake the matrix, since it is no longer just\n",
    "# a function of only the reference \n",
    "\n",
    "def generate_optimization(reference, methylated, unmethylated, method):\n",
    "    \"\"\"\n",
    "    using predefined reference and observed proportions, runs an optimization algorithm of choice \n",
    "    :param reference (np.array) array of methylation observations \n",
    "    :param methylated (np.array)array of methylated counts \n",
    "    :param unmethylated (np.array) array of unmethylated counts \n",
    "    :param method (string) optimization method\n",
    "    \n",
    "    :return estimated proportions  \n",
    "    \n",
    "    \"\"\"\n",
    "    \n",
    "    # create initial proportions estimates \n",
    "    proportions_est = np.zeros((1, reference.shape[0])) + 0.5  \n",
    "    proportions_est = proportions_est / (np.sum(proportions_est))\n",
    "\n",
    "    return method(proportions_est, reference, methylated, unmethylated)"
   ]
  },
  {
   "cell_type": "markdown",
   "metadata": {},
   "source": [
    "#### Parameters"
   ]
  },
  {
   "cell_type": "markdown",
   "metadata": {},
   "source": [
    "Keep parameters simple, as in the first experiments. Perform across our standard read depth range. This time, however, keep the tissue of interest as the ventricle. "
   ]
  },
  {
   "cell_type": "code",
   "execution_count": 10,
   "metadata": {
    "collapsed": true
   },
   "outputs": [],
   "source": [
    "read_depths = [10, 30, 100, 1000]\n",
    "individuals = 1  \n",
    "sites = ref_no_atrium.shape[1] \n",
    "tissue_of_interest = 4  # set ventricle as tissue of interest \n",
    "method = qp \n",
    "noise = 0  \n",
    "replicates = 10 "
   ]
  },
  {
   "cell_type": "markdown",
   "metadata": {},
   "source": [
    "#### Create Observations \n",
    "\n",
    "Create observations that are the proportions of true atrium, drawing from poisson distributions using the various read depths as number of counts to draw from. "
   ]
  },
  {
   "cell_type": "code",
   "execution_count": 11,
   "metadata": {
    "collapsed": true
   },
   "outputs": [],
   "source": [
    "# start off by defining the true observed as 100% atrium \n",
    "\n",
    "observed = atrium\n",
    "observed = observed.reshape(1, len(atrium))\n",
    "\n",
    "count_matrices = [] \n",
    "\n",
    "for read_depth in read_depths: \n",
    "    depth = generate_depth(sites, individuals, read_depth)\n",
    "    methylated = generate_counts(depth, observed, sites, individuals)  # generate counts using poisson distribution \n",
    "    unmethylated = depth - methylated\n",
    "    \n",
    "    count_matrices.append((methylated, unmethylated))  # keep track of different observations "
   ]
  },
  {
   "cell_type": "markdown",
   "metadata": {},
   "source": [
    "#### Simulation\n",
    "\n",
    "Run simulation for each observed matrix drawn above. "
   ]
  },
  {
   "cell_type": "code",
   "execution_count": 12,
   "metadata": {
    "collapsed": true
   },
   "outputs": [],
   "source": [
    "estimate = []\n",
    "\n",
    "for observed in count_matrices: \n",
    "    methylated, unmethylated = observed\n",
    "    guess = generate_optimization(ref_no_atrium, methylated, unmethylated, qp)\n",
    "    estimate.append(guess) \n"
   ]
  },
  {
   "cell_type": "markdown",
   "metadata": {},
   "source": [
    "#### Plot\n",
    "\n",
    "Plot a simple bar chart of the optimization estimates given for each tissue. "
   ]
  },
  {
   "cell_type": "code",
   "execution_count": 13,
   "metadata": {},
   "outputs": [
    {
     "data": {
      "image/png": "[encoded data removed]",
      "text/plain": [
       "<matplotlib.figure.Figure at 0x112246208>"
      ]
     },
     "metadata": {},
     "output_type": "display_data"
    }
   ],
   "source": [
    "# bar plot of each of the estimates \n",
    "# todo, add error bars \n",
    "\n",
    "plt.rcParams.update({'font.size': 12})\n",
    "\n",
    "fig, axes = plt.subplots(1, len(estimate), sharey=True, figsize=(15, 5)) # makes subplots that share a y axis\n",
    "axes.ravel()\n",
    "\n",
    "labels = [\"neurosphere\",\"liver\",\"brain_germinal\",\"brain_hipp\",\"ventricle\",\"thymus\",\"spleen\",\"cd34\",\"4star\"]\n",
    "\n",
    "for i in range(len(estimate)): \n",
    "    sns.barplot(labels, estimate[i], ax=axes[i], palette=\"Paired\")\n",
    "    axes[i].set_xticklabels(labels, rotation=90)\n",
    "    axes[i].set_title(str(read_depths[i]) + \"X\")\n",
    "    \n",
    "fig.text(0.04, 0.5, 'Proportion Estimate', va='center', rotation='vertical')\n",
    "\n",
    "plt.show()\n"
   ]
  },
  {
   "cell_type": "markdown",
   "metadata": {},
   "source": [
    "__*Plot 8*__: Proportion estimate for each tissue at different read depths \n",
    "\n",
    "__Obersevation__: This seems mostly what would be expected. Interested in what would be given for more complex mixtures"
   ]
  },
  {
   "cell_type": "code",
   "execution_count": 14,
   "metadata": {
    "collapsed": true
   },
   "outputs": [],
   "source": [
    "# get an idea for the spread of error/correlation, not just the mean \n",
    "\n",
    "all_replicates = []\n",
    "\n",
    "for observed in count_matrices:\n",
    "    guesses = []\n",
    "    for i in range(replicates): \n",
    "        methylated, unmethylated = observed\n",
    "        guess = generate_optimization(ref_no_atrium, methylated, unmethylated, qp)\n",
    "        guesses.append(guess) \n",
    "        \n",
    "    all_replicates.append(guesses)\n",
    "    "
   ]
  },
  {
   "cell_type": "code",
   "execution_count": 15,
   "metadata": {
    "collapsed": true
   },
   "outputs": [],
   "source": [
    "# make array for better plotting \n",
    "a = np.array(all_replicates)"
   ]
  },
  {
   "cell_type": "code",
   "execution_count": 16,
   "metadata": {},
   "outputs": [
    {
     "data": {
      "image/png": "[encoded data removed]",
      "text/plain": [
       "<matplotlib.figure.Figure at 0x1a189ae048>"
      ]
     },
     "metadata": {},
     "output_type": "display_data"
    }
   ],
   "source": [
    "# make box plot of the error over 10 replicates \n",
    "\n",
    "plt.rcParams.update({'font.size': 12})\n",
    "\n",
    "labels = [\"neurosphere\",\"liver\",\"brain_germinal\",\"brain_hipp\",\"ventricle\",\"thymus\",\"spleen\",\"cd34\",\"4star\"]\n",
    "\n",
    "fig, axes = plt.subplots(1, len(a), sharey=True, figsize=(15, 5)) # makes subplots that share a y axis\n",
    "axes.ravel()\n",
    "\n",
    "colors = [\"royalblue\", \"darkorange\", \"green\", \"tomato\"]  # set colors (default is white)\n",
    "for i, c in zip(range(len(a)), colors): \n",
    "    \n",
    "    axes[i].boxplot(a[i], patch_artist=True, # patch artist necessary to set color \n",
    "            boxprops=dict(facecolor=c, color=c),\n",
    "            capprops=dict(color=c),\n",
    "            whiskerprops=dict(color=c),\n",
    "            flierprops=dict(color=c, markeredgecolor=c),\n",
    "            medianprops=dict(color=c))\n",
    "    \n",
    "    axes[i].set_title(str(read_depths[i]) + \"X\")\n",
    "    axes[i].set_xticklabels(labels, rotation=90)\n",
    "\n",
    "    \n",
    "# gives commmon axis labels \n",
    "fig.text(0.04, 0.5, 'Tissue Estimate', va='center', rotation='vertical')\n",
    "\n",
    "plt.show()\n",
    "\n"
   ]
  },
  {
   "cell_type": "markdown",
   "metadata": {},
   "source": [
    "__*Plot 9*__: Mean estimate for ten replicates for plot 8 \n",
    "\n",
    "__Observation__: I'm a little surprised that there is no variation between replicates ?"
   ]
  },
  {
   "cell_type": "markdown",
   "metadata": {},
   "source": [
    "### Experiment 2a \n",
    "* using the same parameters, but instead of a tissue completely outside the reference panel, use a biological replicate of one tissue "
   ]
  },
  {
   "cell_type": "markdown",
   "metadata": {},
   "source": [
    "#### Reload Data"
   ]
  },
  {
   "cell_type": "code",
   "execution_count": 17,
   "metadata": {},
   "outputs": [
    {
     "data": {
      "text/plain": [
       "['chr',\n",
       " 'start',\n",
       " 'end',\n",
       " 'methylation_level_E054',\n",
       " 'methylation_level_E066',\n",
       " 'methylation_level_E070',\n",
       " 'methylation_level_E071_149',\n",
       " 'methylation_level_E104',\n",
       " 'methylation_level_E105',\n",
       " 'methylation_level_E112',\n",
       " 'methylation_level_E113',\n",
       " 'methylation_level_E050_RO_01549',\n",
       " 'methylation_level_E024_A21771',\n",
       " 'methylation_level_E071_150']"
      ]
     },
     "execution_count": 17,
     "metadata": {},
     "output_type": "execute_result"
    }
   ],
   "source": [
    "# Tissues included in this data set, in the order that they appear\n",
    "roadmap_dmrs = pd.read_csv(\"../data/deconvolution_exp2_10_tissues_rep.csv\")  # load in the roadmap dmrs\n",
    "roadmap_dmrs_drop_na = roadmap_dmrs.dropna()  # for now, just drop any missing data. Later experiments will test ways of dealing with Na's more intelligently \n",
    "list(roadmap_dmrs)"
   ]
  },
  {
   "cell_type": "code",
   "execution_count": 18,
   "metadata": {},
   "outputs": [
    {
     "name": "stdout",
     "output_type": "stream",
     "text": [
      "['methylation_level_E054', 'methylation_level_E066', 'methylation_level_E070', 'methylation_level_E071_149', 'methylation_level_E104', 'methylation_level_E105', 'methylation_level_E112', 'methylation_level_E113', 'methylation_level_E050_RO_01549', 'methylation_level_E024_A21771']\n"
     ]
    }
   ],
   "source": [
    "# reload data with the new biological replicate, and process the data similarly to experiment 1 \n",
    "\n",
    "roadmap_dmrs_no_rep = roadmap_dmrs_drop_na.iloc[:, 3:-1] # drop replicate column \n",
    "print(list(roadmap_dmrs_no_rep))\n",
    "roadmap_dmrs_no_rep[\"var\"] = roadmap_dmrs_no_rep.var(axis=1, skipna=True)  # calculate row variance \n",
    "roadmap_dmrs_top10000 = roadmap_dmrs_no_rep.sort_values(by=\"var\", ascending=False).iloc[:10000,:-1]  # take the top 10,000 most variable sites "
   ]
  },
  {
   "cell_type": "code",
   "execution_count": 19,
   "metadata": {
    "collapsed": true
   },
   "outputs": [],
   "source": [
    "brain_rep = roadmap_dmrs_drop_na.iloc[:, 3]  # make the replicate with the same dimesions as the top 10,000 variable sites\n",
    "brain_rep_var = brain_rep[brain_rep.index.isin(roadmap_dmrs_top10000.index)]"
   ]
  },
  {
   "cell_type": "code",
   "execution_count": 20,
   "metadata": {
    "collapsed": true
   },
   "outputs": [],
   "source": [
    "observed = brain_rep_var.as_matrix().T # keep as a column vector\n",
    "reference = roadmap_dmrs_top10000.as_matrix().T  # transpose for computation "
   ]
  },
  {
   "cell_type": "markdown",
   "metadata": {},
   "source": [
    "#### Parameters"
   ]
  },
  {
   "cell_type": "code",
   "execution_count": 21,
   "metadata": {
    "collapsed": true
   },
   "outputs": [],
   "source": [
    "read_depths = [10, 30, 100, 1000]\n",
    "individuals = 1  \n",
    "sites = reference.shape[1]  \n",
    "method = qp \n",
    "replicates = 1"
   ]
  },
  {
   "cell_type": "code",
   "execution_count": 22,
   "metadata": {
    "collapsed": true
   },
   "outputs": [],
   "source": [
    "observed = observed.reshape(1, len(brain_rep_var))\n",
    "\n",
    "count_matrices = [] \n",
    "\n",
    "for read_depth in read_depths: \n",
    "    depth = generate_depth(sites, individuals, read_depth)\n",
    "    methylated = generate_counts(depth, observed, sites, individuals)\n",
    "    unmethylated = depth - methylated\n",
    "    \n",
    "    count_matrices.append((methylated, unmethylated))"
   ]
  },
  {
   "cell_type": "markdown",
   "metadata": {},
   "source": [
    "#### Run Optimization"
   ]
  },
  {
   "cell_type": "code",
   "execution_count": 23,
   "metadata": {
    "collapsed": true
   },
   "outputs": [],
   "source": [
    "estimates = []\n",
    "guesses = []\n",
    "truth = np.zeros((1, len(reference)))\n",
    "truth[:,tissue_of_interest] = 1 \n",
    "\n",
    "for observed in count_matrices:\n",
    "    error = 0 \n",
    "    for i in range(replicates): \n",
    "        methylated, unmethylated = observed\n",
    "        guess = generate_optimization(reference, methylated, unmethylated, qp)\n",
    "        guesses.append(guess)\n",
    "        error += (np.corrcoef(truth, guess)[0][1]) \n",
    "    estimates.append(error/replicates)"
   ]
  },
  {
   "cell_type": "code",
   "execution_count": 24,
   "metadata": {},
   "outputs": [
    {
     "name": "stdout",
     "output_type": "stream",
     "text": [
      "[array([6.60007869e-02, 0.00000000e+00, 3.89734316e-01, 5.37709414e-02,\n",
      "       5.76405466e-02, 2.69897901e-14, 1.90128403e-15, 2.14739873e-01,\n",
      "       2.18113536e-01, 0.00000000e+00]), array([0.00000000e+00, 1.38934616e-14, 4.78668635e-01, 0.00000000e+00,\n",
      "       0.00000000e+00, 2.09033492e-02, 4.02459677e-02, 4.60124921e-01,\n",
      "       5.71271047e-05, 2.12965547e-13]), array([9.18973388e-02, 0.00000000e+00, 3.44669207e-01, 6.33025320e-02,\n",
      "       3.72213214e-02, 1.34244066e-10, 1.91256233e-02, 4.05063310e-01,\n",
      "       3.87206670e-02, 0.00000000e+00]), array([6.33105153e-02, 4.65235532e-13, 3.92442947e-01, 5.44843577e-02,\n",
      "       6.47270224e-02, 2.01483074e-08, 1.48886873e-13, 2.10658215e-01,\n",
      "       2.14376980e-01, 2.21614741e-12])]\n"
     ]
    }
   ],
   "source": [
    "print(guesses)"
   ]
  },
  {
   "cell_type": "code",
   "execution_count": 25,
   "metadata": {},
   "outputs": [
    {
     "data": {
      "image/png": "[encoded data removed]",
      "text/plain": [
       "<matplotlib.figure.Figure at 0x1a183340b8>"
      ]
     },
     "metadata": {},
     "output_type": "display_data"
    }
   ],
   "source": [
    "# bar plot of each of the estimates \n",
    "# todo, add error bars \n",
    "\n",
    "plt.rcParams.update({'font.size': 12})\n",
    "\n",
    "fig, axes = plt.subplots(1, len(guesses), sharey=True, figsize=(15, 5)) # makes subplots that share a y axis\n",
    "axes.ravel()\n",
    "\n",
    "labels = [\"neurosphere\",\"liver\",\"brain_germinal\",\"brain_hipp\", \"atrium\", \"ventricle\",\"thymus\",\"spleen\",\"cd34\",\"4star\"]\n",
    "depth_titles = [\"10x\", \"30x\", \"100x\", \"1000X\"]\n",
    "\n",
    "colors = [\"royalblue\", \"darkorange\", \"green\", \"tomato\"]  # set colors \n",
    "for i in range(len(guesses)): \n",
    "    axes[i].bar(labels, guesses[i], color=colors[i])\n",
    "    axes[i].set_xticklabels(labels, rotation=90)\n",
    "    axes[i].set_title(depth_titles[i])\n",
    "        \n"
   ]
  },
  {
   "cell_type": "code",
   "execution_count": 26,
   "metadata": {},
   "outputs": [
    {
     "data": {
      "text/plain": [
       "Text(0,0.5,'Correlation')"
      ]
     },
     "execution_count": 26,
     "metadata": {},
     "output_type": "execute_result"
    },
    {
     "data": {
      "image/png": "[encoded data removed]",
      "text/plain": [
       "<matplotlib.figure.Figure at 0x1a18dff7b8>"
      ]
     },
     "metadata": {},
     "output_type": "display_data"
    }
   ],
   "source": [
    "# plot the correlation vs read depth \n",
    "\n",
    "plt.rcParams.update({'font.size': 12})\n",
    "\n",
    "plt.plot(read_depths, estimates, '-o')\n",
    "plt.xscale(\"log\")\n",
    "    \n",
    "plt.xlabel(\"Log Read Depth\")\n",
    "plt.ylabel(\"Correlation\")\n"
   ]
  },
  {
   "cell_type": "code",
   "execution_count": null,
   "metadata": {
    "collapsed": true
   },
   "outputs": [],
   "source": []
  },
  {
   "cell_type": "code",
   "execution_count": null,
   "metadata": {
    "collapsed": true
   },
   "outputs": [],
   "source": []
  }
 ],
 "metadata": {
  "kernelspec": {
   "display_name": "Python 3",
   "language": "python",
   "name": "python3"
  },
  "language_info": {
   "codemirror_mode": {
    "name": "ipython",
    "version": 3
   },
   "file_extension": ".py",
   "mimetype": "text/x-python",
   "name": "python",
   "nbconvert_exporter": "python",
   "pygments_lexer": "ipython3",
   "version": "3.6.5"
  }
 },
 "nbformat": 4,
 "nbformat_minor": 2
}
