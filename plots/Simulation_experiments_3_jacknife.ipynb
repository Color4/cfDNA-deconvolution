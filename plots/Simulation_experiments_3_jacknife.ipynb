{
 "cells": [
  {
   "cell_type": "markdown",
   "metadata": {},
   "source": [
    "## Deconvolution Simulation Experiments 3: jackknife edition! \n",
    "#### Christa Caggiano \n",
    "#### September 7th 2018 \n",
    "\n",
    "\n",
    "Simulations for cfDNA tissue of origin deconvolution. Given an observed matrix of methylation counts for each CpG from whole genome bisulfite sequencing, and a reference matrix of the cannonical proportion methylation for each CpG in each tissue, estimates how much of the cfDNA comes from each tissue in the reference. \n",
    "\n",
    "In these simulations, I will try to compute jackknife error statistics from simulated and real data in order to test the reproducibility of my optimization experiments. "
   ]
  },
  {
   "cell_type": "code",
   "execution_count": 28,
   "metadata": {
    "collapsed": true
   },
   "outputs": [],
   "source": [
    "#### python packages ####\n",
    "import pandas as pd\n",
    "import numpy as np \n",
    "import os\n",
    "import sys\n",
    "import seaborn as sns\n",
    "import matplotlib.pyplot as plt\n",
    "from scipy.stats import binom\n",
    "%matplotlib inline\n",
    "\n",
    "######### loading my python modules for deconvolution ########### \n",
    "#### https://github.com/christacaggiano/cfDNA-deconvolution #####\n",
    "\n",
    "# this code needed to load my modules in a jupyter notebook \n",
    "module_path = os.path.abspath(os.path.join('..'))\n",
    "if module_path not in sys.path:\n",
    "    sys.path.append(module_path)\n",
    "\n",
    "from simulation.simulation_utils import *  # various utils for making simulated data \n",
    "from simulation.simulate import generate_simulated_optimization  # takes parameters and makes simulated matrices for optimization \n",
    "from optimization.quadratic_programming_optimization import perform_optimization as qp  # performs quadratic programming optimization\n",
    "from optimization.naive_optimization import perform_optimization as naive  # 'naive' optimization that divides by sum "
   ]
  },
  {
   "cell_type": "code",
   "execution_count": 29,
   "metadata": {
    "collapsed": true
   },
   "outputs": [],
   "source": [
    "def generate_optimization(reference, methylated, unmethylated, method):\n",
    "    \"\"\"\n",
    "    using predefined reference and observed proportions, runs an optimization algorithm of choice \n",
    "    :param reference (np.array) array of methylation observations \n",
    "    :param methylated (np.array)array of methylated counts \n",
    "    :param unmethylated (np.array) array of unmethylated counts \n",
    "    :param method (string) optimization method\n",
    "    \n",
    "    :return estimated proportions  \n",
    "    \n",
    "    \"\"\"\n",
    "    \n",
    "    # create initial proportions estimates \n",
    "    proportions_est = np.zeros((1, reference.shape[0])) + 0.5  \n",
    "    proportions_est = proportions_est / (np.sum(proportions_est))\n",
    "\n",
    "    return method(proportions_est, reference, methylated, unmethylated)"
   ]
  },
  {
   "cell_type": "code",
   "execution_count": 30,
   "metadata": {
    "collapsed": true
   },
   "outputs": [],
   "source": [
    "def jackknife(reference, methylated, unmethylated): \n",
    "    \n",
    "    # perform jack-knife, leaving the same cpg out of the reference and observed matrices. Performed in order\n",
    "\n",
    "    jackknife_estimate = []\n",
    "\n",
    "    for cpg in range(reference.shape[1]):\n",
    "        estimate = generate_optimization(np.delete(reference, cpg, 1), np.delete(methylated, cpg, 1), np.delete(unmethylated, cpg, 1), qp)\n",
    "        jackknife_estimate.append(estimate)\n",
    "        \n",
    "    return jackknife_estimate"
   ]
  },
  {
   "cell_type": "code",
   "execution_count": 47,
   "metadata": {
    "collapsed": true
   },
   "outputs": [],
   "source": [
    "def jackknife_error(jackknife_estimate, all_sites_estimate): \n",
    "    # calculate the jack knife error using formula from http://www.helsinki.fi/~rummukai/lectures/montecarlo_oulu/lectures/mc_notes5.pdf\n",
    "\n",
    "    error = np.zeros(all_sites_estimate.shape[0])\n",
    "\n",
    "    for row in jackknife_estimate:\n",
    "        error += np.square(row - all_sites_estimate)\n",
    "    \n",
    "    return np.sqrt(error*((error.shape[0]-1)/error.shape[0]))\n"
   ]
  },
  {
   "cell_type": "markdown",
   "metadata": {},
   "source": [
    "### Experiment 3a: \n",
    "\n",
    "**_Goal_**: start simply. Convince myself that if I simulate data with little or no variance, my jackknife will not have crazy error, and can accurately recapitulate the true mean. \n",
    "\n",
    "**Outline**: (from discussion with D. Seigel) \n",
    "* Simulate observed methylation data with known distribution (try Poisson, normal, negative bionomial) \n",
    "* Plot the data \n",
    "* Perform jackknife and plot the resampled data. Perform simulation a large number of times, 1,000 \n",
    "* Calculate and plot jackknife statistics. Compare with known stdev from simulation "
   ]
  },
  {
   "cell_type": "markdown",
   "metadata": {},
   "source": [
    "#### Parameters \n",
    "\n",
    "Unlike in experiments 1 & 2, don't use real data yet. "
   ]
  },
  {
   "cell_type": "code",
   "execution_count": 5,
   "metadata": {
    "collapsed": true
   },
   "outputs": [],
   "source": [
    "individuals = 1  # number of individuals to optimize around \n",
    "sites = 100  # number of CpG sites \n",
    "tissues = 5 # number of tissues in reference \n",
    "proportions = np.array((1, 0, 0, 0, 0))\n",
    "method = qp # optimization method, in this case, quadratic programming \n",
    "center = 0.5 # \"center\" of methylation array values \n",
    "stdev = 0.1  # small SD so the methylation values are reasonable \n",
    "read_depth = 100 "
   ]
  },
  {
   "cell_type": "markdown",
   "metadata": {},
   "source": [
    "#### Experiment 3a part 1: normal distribution \n",
    "\n",
    "start with a normal distribution that rounds everything below zero to zero, and everything above one to one. "
   ]
  },
  {
   "cell_type": "code",
   "execution_count": 6,
   "metadata": {
    "collapsed": true
   },
   "outputs": [],
   "source": [
    "normal = np.random.normal(center, stdev, (tissues, sites))"
   ]
  },
  {
   "cell_type": "code",
   "execution_count": 7,
   "metadata": {},
   "outputs": [
    {
     "data": {
      "text/plain": [
       "0.1024611363791432"
      ]
     },
     "execution_count": 7,
     "metadata": {},
     "output_type": "execute_result"
    }
   ],
   "source": [
    "# check that the mean and stdev are close to expectation \n",
    "np.mean(normal)\n",
    "np.std(normal)"
   ]
  },
  {
   "cell_type": "markdown",
   "metadata": {},
   "source": [
    "#### Plot Distributions \n",
    "visually inspect the distribution of methylation values in 'normal' reference"
   ]
  },
  {
   "cell_type": "code",
   "execution_count": 8,
   "metadata": {},
   "outputs": [
    {
     "data": {
      "text/plain": [
       "<matplotlib.text.Text at 0x11325d898>"
      ]
     },
     "execution_count": 8,
     "metadata": {},
     "output_type": "execute_result"
    },
    {
     "data": {
      "image/png": "[encoded data removed]",
      "text/plain": [
       "<matplotlib.figure.Figure at 0x1132178d0>"
      ]
     },
     "metadata": {},
     "output_type": "display_data"
    }
   ],
   "source": [
    "y, x = np.histogram(normal)\n",
    "fig, ax = plt.subplots()\n",
    "ax.plot(x[:-1], y)\n",
    "ax.set_xlabel(\"% Methylation\")\n",
    "ax.set_ylabel(\"Number of CpGs\")"
   ]
  },
  {
   "cell_type": "markdown",
   "metadata": {},
   "source": [
    "#### Generate observations\n",
    "Using the normally distributed reference data, generate observations that are at first, 100% tissue 1. "
   ]
  },
  {
   "cell_type": "code",
   "execution_count": 9,
   "metadata": {
    "collapsed": true
   },
   "outputs": [],
   "source": [
    "reshaped_proportions = np.reshape(proportions, (1, proportions.shape[0]))\n",
    "observed = np.matmul(reshaped_proportions, normal)"
   ]
  },
  {
   "cell_type": "code",
   "execution_count": 10,
   "metadata": {},
   "outputs": [
    {
     "data": {
      "text/plain": [
       "0.10949701785583195"
      ]
     },
     "execution_count": 10,
     "metadata": {},
     "output_type": "execute_result"
    }
   ],
   "source": [
    "# check that the observed data is also normal, with our defined mean and standard deviation \n",
    "np.mean(observed)\n",
    "np.std(observed)"
   ]
  },
  {
   "cell_type": "markdown",
   "metadata": {},
   "source": [
    "#### Plot observations \n",
    "Check that the shape of the observations is normal given the multiplication to obtain them "
   ]
  },
  {
   "cell_type": "code",
   "execution_count": 11,
   "metadata": {
    "scrolled": true
   },
   "outputs": [
    {
     "data": {
      "text/plain": [
       "<matplotlib.text.Text at 0x113334a58>"
      ]
     },
     "execution_count": 11,
     "metadata": {},
     "output_type": "execute_result"
    },
    {
     "data": {
      "image/png": "[encoded data removed]",
      "text/plain": [
       "<matplotlib.figure.Figure at 0x1132dc9b0>"
      ]
     },
     "metadata": {},
     "output_type": "display_data"
    }
   ],
   "source": [
    "y, x = np.histogram(observed)\n",
    "fig, ax = plt.subplots()\n",
    "ax.plot(x[:-1], y, color=\"g\")\n",
    "ax.set_xlabel(\"% Methylation\")\n",
    "ax.set_ylabel(\"Number of CpGs\")"
   ]
  },
  {
   "cell_type": "markdown",
   "metadata": {},
   "source": [
    "#### Generate counts\n",
    "generate read counts at 100x depth, run optimization using quadratic programming to obtain estimate of tissue proportions using all read counts "
   ]
  },
  {
   "cell_type": "code",
   "execution_count": 12,
   "metadata": {
    "collapsed": true
   },
   "outputs": [],
   "source": [
    "depth = generate_depth(sites, individuals, read_depth)\n",
    "methylated = generate_counts(depth, observed, sites, individuals)  # generate counts using poisson distribution \n",
    "unmethylated = depth - methylated"
   ]
  },
  {
   "cell_type": "markdown",
   "metadata": {},
   "source": [
    "#### Run Optimization"
   ]
  },
  {
   "cell_type": "code",
   "execution_count": 13,
   "metadata": {
    "collapsed": true
   },
   "outputs": [],
   "source": [
    "# run optimization using above sites\n",
    "\n",
    "all_sites = generate_optimization(normal, methylated, unmethylated, qp)"
   ]
  },
  {
   "cell_type": "markdown",
   "metadata": {},
   "source": [
    "#### Perform jack-knife to estimate errors \n",
    "Perform jack-knife leave one out resampling to get an estimate of the error "
   ]
  },
  {
   "cell_type": "code",
   "execution_count": 14,
   "metadata": {
    "collapsed": true
   },
   "outputs": [],
   "source": [
    "# call jackknife and jackknife error calculation functions \n",
    "\n",
    "overall_error = jackknife_error(jackknife(normal, methylated, unmethylated), all_sites)"
   ]
  },
  {
   "cell_type": "markdown",
   "metadata": {},
   "source": [
    "#### Plot Estimate with jack knife error estimate "
   ]
  },
  {
   "cell_type": "code",
   "execution_count": 15,
   "metadata": {},
   "outputs": [
    {
     "data": {
      "image/png": "[encoded data removed]",
      "text/plain": [
       "<matplotlib.figure.Figure at 0x1132174a8>"
      ]
     },
     "metadata": {},
     "output_type": "display_data"
    }
   ],
   "source": [
    "# plot estimate for each of our fake tissues with error bars representing jackknife error \n",
    "\n",
    "x_pos = np.arange(len(overall_error))\n",
    "fig, ax = plt.subplots()\n",
    "ax.bar(x_pos, all_sites, yerr=overall_error, align='center', alpha=0.5, ecolor='black', capsize=10)\n",
    "ax.set_ylabel(\"Proportion of tissue\")\n",
    "ax.set_xlabel(\"Tissue\")\n",
    "ax.set_xticks(x_pos)\n",
    "ax.yaxis.grid(True)"
   ]
  },
  {
   "cell_type": "markdown",
   "metadata": {},
   "source": [
    "**_Figure 1_**: for each of our five tissues, the estimated proportion and estimated error done by jack knife "
   ]
  },
  {
   "cell_type": "markdown",
   "metadata": {},
   "source": [
    "#### Experiment 3a: normal distribution, multiple tissues \n",
    "\n",
    "redo the experiment with simulated data in a normal distribution using equal proportions of tissues"
   ]
  },
  {
   "cell_type": "markdown",
   "metadata": {},
   "source": [
    "#### Parameters"
   ]
  },
  {
   "cell_type": "code",
   "execution_count": 16,
   "metadata": {
    "collapsed": true
   },
   "outputs": [],
   "source": [
    "individuals = 1  \n",
    "sites = 100  \n",
    "tissues = 5  \n",
    "proportions = np.array((0.2, 0.2, 0.2, 0.2, 0.2))  # change the proportions of tissues to be approximately equal\n",
    "method = qp \n",
    "center = 0.5 \n",
    "stdev = 0.1  \n",
    "read_depth = 100 "
   ]
  },
  {
   "cell_type": "markdown",
   "metadata": {},
   "source": [
    "#### Generate matrices"
   ]
  },
  {
   "cell_type": "code",
   "execution_count": 34,
   "metadata": {
    "collapsed": true
   },
   "outputs": [],
   "source": [
    "normal = np.random.normal(center, stdev, (tissues, sites))\n",
    "reshaped_proportions = np.reshape(proportions, (1, proportions.shape[0]))\n",
    "observed = np.matmul(reshaped_proportions, normal)\n",
    "\n",
    "depth = generate_depth(sites, individuals, read_depth)\n",
    "methylated = generate_counts(depth, observed, sites, individuals)  # generate counts using poisson distribution \n",
    "unmethylated = depth - methylated"
   ]
  },
  {
   "cell_type": "markdown",
   "metadata": {},
   "source": [
    "#### Run optimization"
   ]
  },
  {
   "cell_type": "code",
   "execution_count": 35,
   "metadata": {
    "collapsed": true
   },
   "outputs": [],
   "source": [
    "all_sites = generate_optimization(normal, methylated, unmethylated, qp)"
   ]
  },
  {
   "cell_type": "markdown",
   "metadata": {},
   "source": [
    "#### Calculate jack-knife error "
   ]
  },
  {
   "cell_type": "code",
   "execution_count": 36,
   "metadata": {
    "collapsed": true
   },
   "outputs": [],
   "source": [
    "overall_error = jackknife_error(jackknife(normal, methylated, unmethylated), all_sites)"
   ]
  },
  {
   "cell_type": "markdown",
   "metadata": {},
   "source": [
    "#### Plot estimate with jack knife error statistics "
   ]
  },
  {
   "cell_type": "code",
   "execution_count": 37,
   "metadata": {},
   "outputs": [
    {
     "data": {
      "image/png": "[encoded data removed]",
      "text/plain": [
       "<matplotlib.figure.Figure at 0x113671438>"
      ]
     },
     "metadata": {},
     "output_type": "display_data"
    }
   ],
   "source": [
    "x_pos = np.arange(len(overall_error))\n",
    "fig, ax = plt.subplots()\n",
    "ax.bar(x_pos, all_sites, yerr=overall_error, align='center', alpha=0.5, ecolor='black', capsize=10)\n",
    "ax.set_ylabel(\"Proportion of tissue\")\n",
    "ax.set_xlabel(\"Tissue\")\n",
    "ax.set_xticks(x_pos)\n",
    "ax.yaxis.grid(True)"
   ]
  },
  {
   "cell_type": "markdown",
   "metadata": {},
   "source": [
    "**_Figure 2_**: Estimated proportion for each tissue when the true proportions of each tissue are equal (0.2) "
   ]
  },
  {
   "cell_type": "markdown",
   "metadata": {},
   "source": [
    "#### Perform replication \n",
    "\n",
    "Previous estimates only used 1 run of simulation. Now add 1000 simulations and take the average estimate for each tissue and the average jackknife estimate"
   ]
  },
  {
   "cell_type": "code",
   "execution_count": null,
   "metadata": {
    "collapsed": true
   },
   "outputs": [],
   "source": [
    "# number of replicates to perform \n",
    "\n",
    "replicates = 1000 "
   ]
  },
  {
   "cell_type": "code",
   "execution_count": 62,
   "metadata": {},
   "outputs": [],
   "source": [
    "overall_error_replicated = [] \n",
    "all_sites_replicated = []\n",
    "\n",
    "for i in range(replicates): \n",
    "    \n",
    "    normal = np.random.normal(center, stdev, (tissues, sites))\n",
    "    reshaped_proportions = np.reshape(proportions, (1, proportions.shape[0]))\n",
    "    observed = np.matmul(reshaped_proportions, normal)\n",
    "\n",
    "    depth = generate_depth(sites, individuals, read_depth)\n",
    "    methylated = generate_counts(depth, observed, sites, individuals)   \n",
    "    unmethylated = depth - methylated\n",
    "\n",
    "    guess = generate_optimization(normal, methylated, unmethylated, qp)\n",
    "    all_sites_replicated.append(guess) \n",
    "    \n",
    "    error = jackknife_error(jackknife(normal, methylated, unmethylated), guess)\n",
    "    overall_error_replicated.append(error)\n"
   ]
  },
  {
   "cell_type": "code",
   "execution_count": 63,
   "metadata": {},
   "outputs": [],
   "source": [
    "# average over the 1,000 replicates for the estimate and error \n",
    "\n",
    "average_all_sites = sum(all_sites_replicated)/len(all_sites_replicated)\n",
    "average_overall_estimate = sum(overall_error_replicated)/len(overall_error_replicated)"
   ]
  },
  {
   "cell_type": "code",
   "execution_count": 66,
   "metadata": {},
   "outputs": [
    {
     "data": {
      "image/png": "[encoded data removed]",
      "text/plain": [
       "<matplotlib.figure.Figure at 0x114250f28>"
      ]
     },
     "metadata": {},
     "output_type": "display_data"
    }
   ],
   "source": [
    "x_pos = np.arange(len(overall_error))\n",
    "fig, ax = plt.subplots()\n",
    "ax.bar(x_pos, average_all_sites, yerr=average_overall_estimate, color=\"green\", align='center', alpha=0.5, ecolor='black', capsize=10)\n",
    "ax.set_ylabel(\"Proportion of tissue\")\n",
    "ax.set_xlabel(\"Tissue\")\n",
    "ax.set_xticks(x_pos)\n",
    "ax.yaxis.grid(True)\n",
    "plt.title(\"Average estimate and error\")\n",
    "plt.show()"
   ]
  },
  {
   "cell_type": "markdown",
   "metadata": {
    "collapsed": true
   },
   "source": [
    "**_Figure 3_**: Average estimate and average jackknife error over 1,000 replicates. Converges nicely to true value. "
   ]
  },
  {
   "cell_type": "markdown",
   "metadata": {},
   "source": [
    "#### Experiment 3: Real Data"
   ]
  },
  {
   "cell_type": "markdown",
   "metadata": {},
   "source": [
    "using the same data as in experiment 1 and 2, get an idea of the distribution of the 'real' data and see if it can be recapitulated in the jackknife "
   ]
  },
  {
   "cell_type": "code",
   "execution_count": null,
   "metadata": {
    "collapsed": true
   },
   "outputs": [],
   "source": [
    "# Tissues included in this data set, in the order that they appear\n",
    "# neurosphere\tliver\tbrain_germinal\tbrain_hipp\tatrium \tventricle\tthymus \tspleen\tcd34\t4star\n",
    "\n",
    "roadmap_dmrs = pd.read_csv(\"../data/deconvolution_exp1_10_tissues.csv\")  # load in the roadmap dmrs\n",
    "roadmap_dmrs_drop_na = roadmap_dmrs.dropna()  # for now, just drop any missing data. Later experiments will test ways of dealing with Na's more intelligently "
   ]
  },
  {
   "cell_type": "code",
   "execution_count": null,
   "metadata": {
    "collapsed": true
   },
   "outputs": [],
   "source": [
    "roadmap_dmrs = roadmap_dmrs_drop_na.iloc[:, 3:] # drop chrom information because it's not important for computation \n",
    "roadmap_dmrs[\"var\"] = roadmap_dmrs.var(axis=1, skipna=True)  # calculate row variance \n",
    "roadmap_dmrs_top10000 = roadmap_dmrs.sort_values(by=\"var\", ascending=False).iloc[:10000,:-1]  # take the top 10,000 most variable sites "
   ]
  },
  {
   "cell_type": "code",
   "execution_count": null,
   "metadata": {
    "collapsed": true
   },
   "outputs": [],
   "source": [
    "y, x = np.histogram(roadmap_dmrs_top10000)\n",
    "fig, ax = plt.subplots()\n",
    "ax.plot(x[:-1], y) "
   ]
  },
  {
   "cell_type": "code",
   "execution_count": null,
   "metadata": {
    "collapsed": true
   },
   "outputs": [],
   "source": [
    " # jackknife_estimate = []\n",
    "        # for cpg in range(reference.shape[1]):\n",
    "        #     estimate = generate_optimization(np.delete(reference, cpg, 1), np.delete(methylated, cpg, 1), np.delete(unmethylated, cpg, 1), qp)\n",
    "        #     jackknife_estimate.append(estimate)\n",
    "        #"
   ]
  }
 ],
 "metadata": {
  "kernelspec": {
   "display_name": "Python 3",
   "language": "python",
   "name": "python3"
  },
  "language_info": {
   "codemirror_mode": {
    "name": "ipython",
    "version": 3
   },
   "file_extension": ".py",
   "mimetype": "text/x-python",
   "name": "python",
   "nbconvert_exporter": "python",
   "pygments_lexer": "ipython3",
   "version": "3.6.4"
  }
 },
 "nbformat": 4,
 "nbformat_minor": 2
}
