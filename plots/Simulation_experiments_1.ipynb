{
 "cells": [
  {
   "cell_type": "markdown",
   "metadata": {},
   "source": [
    "## Deconvolution Simulation Experiments\n",
    "## Part I - recapitulating data from reference panel \n",
    "#### Christa Caggiano \n",
    "#### July 18th 2018 \n",
    "\n",
    "\n",
    "Simulations for cfDNA tissue of origin deconvolution. Given an observed matrix of methylation counts for each CpG from whole genome bisulfite sequencing, and a reference matrix of the cannonical proportion methylation for each CpG in each tissue, estimates how much of the cfDNA comes from each tissue in the reference. \n",
    "\n",
    "These simulations generate a variety of 'true' proportions and test how well our current algorithm is at recapitulating that proportion. \n",
    "\n",
    "**for experiment 1**, I will use tissues contained on the reference panel as 'observed methylation values' to examine the algorithm's baseline ability to estimate proportions in different conditions. This will be helpful in determining the optimal configuration for our real data to maximize our ability to truthfully predict cfDNA tissue of origin composition. "
   ]
  },
  {
   "cell_type": "markdown",
   "metadata": {},
   "source": [
    "#### Imports\n",
    "Python packages and references to my deconvolution modules"
   ]
  },
  {
   "cell_type": "code",
   "execution_count": 2,
   "metadata": {
    "collapsed": true
   },
   "outputs": [],
   "source": [
    "#### python packages ####\n",
    "import pandas as pd\n",
    "import numpy as np \n",
    "import os\n",
    "import sys\n",
    "import seaborn as sns\n",
    "import matplotlib.pyplot as plt\n",
    "from scipy.stats import binom\n",
    "from sklearn.metrics import mean_squared_error\n",
    "%matplotlib inline\n",
    "\n",
    "######### loading my python modules for deconvolution ########### \n",
    "#### https://github.com/christacaggiano/cfDNA-deconvolution #####\n",
    "\n",
    "# this code needed to load my modules in a jupyter notebook \n",
    "module_path = os.path.abspath(os.path.join('..'))\n",
    "if module_path not in sys.path:\n",
    "    sys.path.append(module_path)\n",
    "\n",
    "from simulation.simulation_utils import *  # various utils for making simulated data \n",
    "from simulation.simulate import generate_simulated_optimization  # takes parameters and makes simulated matrices for optimization \n",
    "from optimization.quadratic_programming_optimization import perform_optimization as qp  # performs quadratic programming optimization\n",
    "from optimization.naive_optimization import perform_optimization as naive  # 'naive' optimization that divides by sum "
   ]
  },
  {
   "cell_type": "markdown",
   "metadata": {},
   "source": [
    "#### Load Data\n",
    "This data is from the [Roadmap Consortium's processed whole genome bisulfite sequencing data](https://egg2.wustl.edu/roadmap/web_portal/processed_data.html#MethylData). They analyzed ~40 tissues and cell lines to find differentially methylated regions. \n",
    "\n",
    "Data processing by Roadmap -- *As a general resource for epigenomic comparisons across all epigenomes, we defined DMRs using the Lister et al method (Lister et al. (2013)), combining all differentially methylated sites (DMSs) within 250bp of one another into a single DMR and excluded any DMR with less than 3 DMSs. For each DMR in each sample, we computed its average methylation level, weighted by the number of reads overlapping it (Schultz et al. (2012)). This resulted in a methylation level matrix with rows of DMRs and columns of samples.*\n",
    "\n",
    "I have selected 10 tissues/cell lines to start. These tissues are **neurosphere cell line, liver, brain germinal matrix, brain hippocampus, heart atrium, heart ventricle, thymus, spleen cd34+ cells, and 4star (random cell line that comes from UCSF, should be very different than any other tissue).** I took these 10 tissues and made a separate csv file in order to make it easier to load. "
   ]
  },
  {
   "cell_type": "code",
   "execution_count": 3,
   "metadata": {
    "collapsed": true
   },
   "outputs": [],
   "source": [
    "# Tissues included in this data set, in the order that they appear\n",
    "# neurosphere\tliver\tbrain_germinal\tbrain_hipp\tatrium \tventricle\tthymus \tspleen\tcd34\t4star\n",
    "\n",
    "roadmap_dmrs = pd.read_csv(\"../data/deconvolution_exp1_10_tissues.csv\")  # load in the roadmap dmrs\n",
    "roadmap_dmrs_drop_na = roadmap_dmrs.dropna()  # for now, just drop any missing data. Later experiments will test ways of dealing with Na's more intelligently "
   ]
  },
  {
   "cell_type": "markdown",
   "metadata": {},
   "source": [
    "### Experiment 1: \n",
    "\n",
    "__Goal__: Making mixtures of tissues that are __contained in the reference set__. I want to learn how accurate the deconvolution algorithm is at identifying a mixture with no noise and no outside tissues.  \n",
    "\n",
    "**Outline** \n",
    "* Take sites that are the top 10,000 variable sites in the Roadmap project differentially methylated regions\n",
    "* Choose one tissue- in this example, brain - that is contained in the reference set and set it to a range of proportions in an observed mixture\n",
    "* Make a mix of _n_ tissues, where other tissues are random proportions but brain is kept fixed \n",
    "* No noise around CpG values in the observed data "
   ]
  },
  {
   "cell_type": "markdown",
   "metadata": {},
   "source": [
    "#### Optimization Simulation Function\n",
    "\n",
    "Master function to create simulated matrices and perform the quadratic programming optimization. Calls functions loaded from code at https://github.com/christacaggiano/cfDNA-deconvolution, namely from simulate/ and optimize/ This code cannot be modified from this ipython notebook. "
   ]
  },
  {
   "cell_type": "code",
   "execution_count": 7,
   "metadata": {
    "collapsed": true
   },
   "outputs": [],
   "source": [
    "def run_optimization(individuals, sites, tissues, read_depth, method, reference, fixed_proportion, column):\n",
    "    \"\"\"\n",
    "    this function controls the simulation, by generating the simulated matrices given a set of parameters and \n",
    "    running the optimization using method of choice \n",
    "    \n",
    "    :param individuals (int) number of individuals in the matrices (since optimization is only 1 person at a time, this is usually one. Will change later)\n",
    "    :param sites (int) number of CpGs in reference and observed matrix- must be the same \n",
    "    :param tissues (int) number of tissues in the reference/tissue proportion matrices \n",
    "    :param read_depth (int) the read depth to generate simulated observed methylation values around \n",
    "    :param method (string) either \"qp\" or \"naive\"; optimization method \n",
    "    :param reference (np.array) numpy array of reference methylation values (dimensions: tissues x sites)\n",
    "    :param fixed_proportion (float) value to fix one tissue at a given proportion in observed methylation counts\n",
    "    :param column (int) column # of specific tissue to fix \n",
    "    \n",
    "    :return 'true proportions' made by the simulation, the estimated proportions from the optimization \n",
    "    \"\"\"\n",
    "    \n",
    "    # generates proprotions where one tissue is fixed and all others are random such that total proportions = 1\n",
    "    proportions = np.asarray(generate_proportion_fixed(individuals, tissues, fixed_proportion, column))  \n",
    "    \n",
    "    # observed percent methylated is the simulated proportions times reference\n",
    "    observed = round_to_one(np.matmul(proportions, reference))  \n",
    "    # read counts (ie number of methylated or unmethylated reads) are drawn from a \n",
    "    # poisson process around the read depth\n",
    "    depth = generate_depth(sites, individuals, read_depth)\n",
    "    methylated = generate_counts(depth, observed, sites, individuals)\n",
    "    unmethylated = depth - methylated\n",
    "      \n",
    "    # start with estimate of the proportions where all tissues are equal \n",
    "    proportions_est = np.zeros((individuals, tissues)) + 0.5  \n",
    "    proportions_est = proportions_est/(np.sum(proportions_est))\n",
    "\n",
    "    # run optimization \n",
    "    return proportions, method(proportions_est, reference, methylated, unmethylated)\n"
   ]
  },
  {
   "cell_type": "markdown",
   "metadata": {},
   "source": [
    "#### Reference Data from Roadmap\n",
    "\n",
    "Since the roadmap data contains hundreds of thousands of sites, we restrict to the top 10,000 most variable sites to start. These should select for sites that are most likely to be informative of tissue differences in our reference panel.  "
   ]
  },
  {
   "cell_type": "code",
   "execution_count": 6,
   "metadata": {
    "collapsed": true
   },
   "outputs": [],
   "source": [
    "roadmap_dmrs = roadmap_dmrs_drop_na.iloc[:, 3:] # drop chrom information because it's not important for computation \n",
    "roadmap_dmrs[\"var\"] = roadmap_dmrs.var(axis=1, skipna=True)  # calculate row variance \n",
    "roadmap_dmrs_top10000 = roadmap_dmrs.sort_values(by=\"var\", ascending=False).iloc[:10000,:-1]  # take the top 10,000 most variable sites "
   ]
  },
  {
   "cell_type": "code",
   "execution_count": 7,
   "metadata": {
    "collapsed": true
   },
   "outputs": [],
   "source": [
    "reference = roadmap_dmrs_top10000.as_matrix().T  # make reference a numpy array for computation"
   ]
  },
  {
   "cell_type": "markdown",
   "metadata": {},
   "source": [
    "#### Experiment Parameters\n",
    "\n",
    "Each sub-experiment has differing parameters for generating simulating data outlined in the 'experiment parameters' section. "
   ]
  },
  {
   "cell_type": "code",
   "execution_count": 40,
   "metadata": {
    "collapsed": true
   },
   "outputs": [],
   "source": [
    "read_depths = [0.5, 5, 10, 30, 100, 1000]  # depths to sample aroudn \n",
    "tissue_percents = [10, 1, 0.1, 0.01]  # percent of one fixed tissue \n",
    "individuals = 1  # number of individuals to optimize around \n",
    "sites = reference.shape[1]  # number of CpG sites \n",
    "tissues = reference.shape[0]  # number of tissues in reference \n",
    "tissue_of_interest = 2  # tissue of interest to fix, in this case it is brain_germinal matrix\n",
    "method = qp # optimization method, in this case, quadratic programming \n",
    "noise = 0  # no noise for right now \n",
    "replicates = 50  # perform simulation 50 times "
   ]
  },
  {
   "cell_type": "markdown",
   "metadata": {},
   "source": [
    "#### Run Simulation\n",
    "\n",
    "Run optimization using the experiment parameters and my optimization function defined above. "
   ]
  },
  {
   "cell_type": "code",
   "execution_count": 41,
   "metadata": {
    "collapsed": true
   },
   "outputs": [],
   "source": [
    "# run simulation for parameters above and take the average correlation between estimate and true proportions \n",
    "# for all replicates performed \n",
    "\n",
    "correlation = []\n",
    "\n",
    "for percent in tissue_percents:\n",
    "    read_depth_error = []\n",
    "    \n",
    "    for depth in read_depths: \n",
    "        error = 0\n",
    "        \n",
    "        for i in range(replicates):\n",
    "            truth, guess = run_optimization(individuals, sites, tissues, depth, method, reference, percent, tissue_of_interest)\n",
    "            error += (np.corrcoef(truth, guess)[0][1])\n",
    "            \n",
    "        read_depth_error.append(error/replicates)\n",
    "    \n",
    "    correlation.append(read_depth_error)\n"
   ]
  },
  {
   "cell_type": "markdown",
   "metadata": {},
   "source": [
    "#### Plot\n",
    "\n",
    "Plot read depth against average correlation"
   ]
  },
  {
   "cell_type": "code",
   "execution_count": 43,
   "metadata": {},
   "outputs": [
    {
     "data": {
      "image/png": "[encoded data removed]",
      "text/plain": [
       "<matplotlib.figure.Figure at 0x117119080>"
      ]
     },
     "metadata": {},
     "output_type": "display_data"
    }
   ],
   "source": [
    "# plot the correlation vs read depth \n",
    "\n",
    "plt.rcParams.update({'font.size': 12})  # make the font size on the plot text bigger\n",
    "\n",
    "for proportion_error, proportion in zip(correlation, tissue_percents):  # iterate over list of correlations and tissues \n",
    "    plt.plot(read_depths, proportion_error, '-o', label=str(proportion) + \"%\")\n",
    "    plt.xscale(\"log\")  # use log scale \n",
    "    \n",
    "plt.xlabel(\"Log Read Depth\")\n",
    "plt.ylabel(\"Average Mean Square Error\")\n",
    "plt.grid()\n",
    "plt.legend()\n",
    "\n",
    "plt.show()"
   ]
  },
  {
   "cell_type": "markdown",
   "metadata": {},
   "source": [
    "__*Plot 1*__: Read depth versus correlation between true simulated proportions and estimated proportions for a range of true fixed proportions. \n",
    "\n",
    "__Observation__ 10% seems to perform worse than expected, but maybe because with 10 tissues, 10% means approximately equal proportions of all tissues? I think this would in general, be very unlikely in real data. "
   ]
  },
  {
   "cell_type": "markdown",
   "metadata": {},
   "source": [
    "#### Run Simulation \n",
    "\n",
    "*plot 1* is an average of several points, but how does the error change across these replicates. AKA how reproducible are the estimates? "
   ]
  },
  {
   "cell_type": "code",
   "execution_count": 17,
   "metadata": {
    "collapsed": true
   },
   "outputs": [],
   "source": [
    "# get an idea for the spread of error/correlation, not just the mean \n",
    "\n",
    "correlation = []\n",
    "\n",
    "for percent in tissue_percents:\n",
    "    each_percent_error = []\n",
    "    \n",
    "    for depth in read_depths: \n",
    "        depth_error = []\n",
    "        \n",
    "        for i in range(replicates):\n",
    "            truth, guess = run_optimization(individuals, sites, tissues, depth, method, reference, percent, tissue_of_interest)\n",
    "            depth_error.append(np.corrcoef(truth, guess)[0][1])  # all replicates \n",
    "        \n",
    "        each_percent_error.append(depth_error)\n",
    "    \n",
    "    correlation.append(each_percent_error)\n"
   ]
  },
  {
   "cell_type": "markdown",
   "metadata": {},
   "source": [
    "#### Plot\n",
    "\n",
    "Visually inspect the distribution of estimates for a given read depth using a box plot"
   ]
  },
  {
   "cell_type": "code",
   "execution_count": 18,
   "metadata": {},
   "outputs": [
    {
     "data": {
      "image/png": "[encoded data removed]",
      "text/plain": [
       "<matplotlib.figure.Figure at 0x114e4efd0>"
      ]
     },
     "metadata": {},
     "output_type": "display_data"
    }
   ],
   "source": [
    "# make box plot of the error over 10 replicates \n",
    "\n",
    "plt.rcParams.update({'font.size': 12})\n",
    "\n",
    "fig, axes = plt.subplots(1, len(correlation), sharey=True, figsize=(15, 5)) # makes subplots that share a y axis\n",
    "axes.ravel()\n",
    "\n",
    "colors = [\"royalblue\", \"darkorange\", \"green\", \"tomato\"]  # set colors (default is white)\n",
    "for i, c in zip(range(len(correlation)), colors): \n",
    "    \n",
    "    axes[i].boxplot(correlation[i], patch_artist=True, # patch artist necessary to set color\n",
    "                    \n",
    "            # set the color individually for each aspect of the plot \n",
    "            boxprops=dict(facecolor=c, color=c),\n",
    "            capprops=dict(color=c),\n",
    "            whiskerprops=dict(color=c),\n",
    "            flierprops=dict(color=c, markeredgecolor=c),\n",
    "            medianprops=dict(color=\"black\"))\n",
    "    \n",
    "    axes[i].set_title(str(tissue_percents[i]) + \"%\")\n",
    "    axes[i].set_xticklabels(read_depths)\n",
    "\n",
    "    \n",
    "# gives commmon axis labels \n",
    "fig.text(0.5, 0.04, 'Read Depth', ha='center')\n",
    "fig.text(0.04, 0.5, 'Average Correlation', va='center', rotation='vertical')\n",
    "\n",
    "plt.show()\n"
   ]
  },
  {
   "cell_type": "markdown",
   "metadata": {},
   "source": [
    "__*Plot 2*__: Spread of the correlation for ten replicates across four read depths and four levels of fixed tissue proportions \n",
    "\n",
    "__Observation__ Seems like what we would expect- the more reads, the more consistently we are able to estimate the proportions. As @Noah pointed out earlier, however, this doesn't really answer how well we are to predict the tissue that we are fixing/most interested in, only how well the algorithm performs overall. "
   ]
  },
  {
   "cell_type": "markdown",
   "metadata": {},
   "source": [
    "#### Run Simulation\n",
    "\n",
    "Run the same simulation as above, this time keeping track of the difference between the true and estimated brain proportions over 10 replicates. "
   ]
  },
  {
   "cell_type": "code",
   "execution_count": 44,
   "metadata": {
    "collapsed": true
   },
   "outputs": [],
   "source": [
    "# examine how well we can predict specifically brain, our tissue of interest \n",
    "# since this is now only one value, use the difference between the 'true' proportions (0.1, 0.01, 0.001, and 0.0001) and estimate \n",
    "\n",
    "difference = []\n",
    "\n",
    "for percent in tissue_percents:\n",
    "    percent_diff = []\n",
    "    \n",
    "    for depth in read_depths: \n",
    "        depth_diff = []\n",
    "        \n",
    "        for i in range(replicates):\n",
    "            truth, guess = run_optimization(individuals, sites, tissues, depth, method, reference, percent, tissue_of_interest)\n",
    "            depth_diff.append(truth[0][tissue_of_interest] - guess[tissue_of_interest])\n",
    "        \n",
    "        percent_diff.append(depth_diff)  # all 10 replicates \n",
    "    \n",
    "    difference.append(percent_diff)\n"
   ]
  },
  {
   "cell_type": "markdown",
   "metadata": {},
   "source": [
    "#### Plot \n",
    "\n",
    "Re-use boxplot code from above, but this time analyze the difference for true and estimated proportion of brain germinal matrix. 0 is now the 'ideal' value. "
   ]
  },
  {
   "cell_type": "code",
   "execution_count": 45,
   "metadata": {},
   "outputs": [
    {
     "data": {
      "image/png": "[encoded data removed]",
      "text/plain": [
       "<matplotlib.figure.Figure at 0x10c018470>"
      ]
     },
     "metadata": {},
     "output_type": "display_data"
    }
   ],
   "source": [
    "plt.rcParams.update({'font.size': 12})\n",
    "\n",
    "# use difference matrix instead of correlation \n",
    "fig, axes = plt.subplots(1, len(difference), sharey=True, figsize=(15, 5)) # makes subplots that share a y axis\n",
    "axes.ravel()\n",
    "\n",
    "colors = [\"royalblue\", \"darkorange\", \"green\", \"tomato\"]  # set colors (default is white)\n",
    "for i, c in zip(range(len(difference)), colors): \n",
    "    \n",
    "    axes[i].boxplot(difference[i], patch_artist=True, # patch artist necessary to set color \n",
    "            boxprops=dict(facecolor=c, color=c),\n",
    "            capprops=dict(color=c),\n",
    "            whiskerprops=dict(color=c),\n",
    "            flierprops=dict(color=c, markeredgecolor=c),\n",
    "            medianprops=dict(color=\"black\"))\n",
    "    \n",
    "    axes[i].set_title(str(tissue_percents[i]) + \"%\")\n",
    "    axes[i].set_xticklabels(read_depths)\n",
    "\n",
    "    \n",
    "# gives commmon axis labels \n",
    "fig.text(0.5, 0.04, 'Read Depth', ha='center')\n",
    "fig.text(0.04, 0.5, 'True - Estimate', va='center', rotation='vertical')\n",
    "\n",
    "plt.show()"
   ]
  },
  {
   "cell_type": "markdown",
   "metadata": {},
   "source": [
    "__*Plot 2a*__: Spread of the differences between true brain proportion and estimated for ten replicates across four read depths and four levels of fixed proportion. \n",
    "\n",
    "__Observation__ This plot is much more indicative. While above in *plot 2* it seemed that the algorithm was performing better with small tissue percentages of brain, our ability to estimate brain as it gets rarer, is worse. Interesting that it seems to be that with rarer proportions of brian, the tissue is consistently over estimated. "
   ]
  },
  {
   "cell_type": "markdown",
   "metadata": {},
   "source": [
    "### Experiment 1a: \n",
    "__Goal__: Within the tissue that we have, how well does the algorithm perform when we have differing numbers of tissues? \n",
    "\n",
    "In the future, this should be vastly expanded to ~100 tissues to make it a more realistic simulation. In this experiment, I will keep the read depth constant to be able to see more clearly how number of tissues affects accuracy. I chose [30x since this is commonly used in WGBS experiments](https://www.google.com/search?q=30x+read+coverage+wgbs&rlz=1C5CHFA_enUS760US760&oq=30x+read+coverage+wgbs&aqs=chrome..69i57.4502j0j4&sourceid=chrome&ie=UTF-8). I am also using the two most exterme tissue proportions to limit the computational constraints, since with only 10 replicates 2*10*10 becomes a lot of iterations to run on my local computer. Further work can fill in more tissue proportions. \n",
    "\n",
    "**Outline** \n",
    "* Use 2-10 number of tissues at 10% and 0.01% \n",
    "* Keep the number of sites (10,000) and replicates (10) the same as in experiment 1 \n",
    "* Continue to use the 10,000 most variable sites. \n",
    "* Use one read depth of 30 "
   ]
  },
  {
   "cell_type": "markdown",
   "metadata": {},
   "source": [
    "#### Parameters\n",
    "\n",
    "Create several reference matrices by subsetting the one used in experiment1 above to a different range. Given the tissues in the matrix in this order: [neurosphere, liver, brain_germinal, brain_hipp, atrium, ventricle, thymus, \tspleen, cd34, 4star] the first reference w/ 2 tissues will contain [neurosphere, liver], the second reference with three tissues will contain [neurosphere, liver, brain_germinal], so on and so forth. \n",
    "\n",
    "Note- In the future, it may be good to make this process of forming the reference randomized. "
   ]
  },
  {
   "cell_type": "code",
   "execution_count": 13,
   "metadata": {
    "collapsed": true
   },
   "outputs": [],
   "source": [
    "# change the reference so that it only encompasses a fixed range of tissues \n",
    "\n",
    "tissues = reference.shape[0]  # number of total tissues in reference \n",
    "\n",
    "reference_list = []  # keep references in a list of numpy arrays \n",
    "\n",
    "for i in range(2, tissues): \n",
    "    new_ref = reference[:i, :]  # subset the original reference matrix to a given column, keep all the rows (representing sites)\n",
    "    reference_list.append(new_ref)\n",
    "    "
   ]
  },
  {
   "cell_type": "code",
   "execution_count": 14,
   "metadata": {
    "collapsed": true
   },
   "outputs": [],
   "source": [
    "# amend parameters \n",
    "\n",
    "depth = 30  # 30x is a standard for WGBS experiments \n",
    "tissue_percents = [10, 0.01]  # use only the most extreme tissue percents to fix \n",
    "individuals = 1 \n",
    "sites = reference.shape[1]\n",
    "tissue_of_interest = 0  # allows for us to have less than 3 tissues \n",
    "method = qp \n",
    "noise = 0 \n",
    "replicates = 1  # use 10 replicates -  will take very long locally, in which case, use 1for demonstration's sake"
   ]
  },
  {
   "cell_type": "markdown",
   "metadata": {},
   "source": [
    "#### Run Simulation \n",
    "\n",
    "Run simulation in loop, for each tissue percent (10% and 0.01%), for each reference (2, 3, 4, ... 10 tissues large) and for each replicate. Calculate the correlation between the true proprotions and estimated. \n",
    "\n",
    "Note **invalid value encountered in less_equal** may occur in the early references with < 3 or 4 tissues because the tissues that were selected may not be variable in their sites, code returns NaN instead of a proportion estimate. In future, I should calculate the reference, then pick 10,000 variable sites... "
   ]
  },
  {
   "cell_type": "code",
   "execution_count": 15,
   "metadata": {},
   "outputs": [
    {
     "name": "stderr",
     "output_type": "stream",
     "text": [
      "/usr/local/lib/python3.6/site-packages/scipy/stats/_discrete_distns.py:44: RuntimeWarning: invalid value encountered in greater_equal\n",
      "  return (n >= 0) & (p >= 0) & (p <= 1)\n",
      "/usr/local/lib/python3.6/site-packages/scipy/stats/_discrete_distns.py:44: RuntimeWarning: invalid value encountered in less_equal\n",
      "  return (n >= 0) & (p >= 0) & (p <= 1)\n"
     ]
    }
   ],
   "source": [
    "# get average correlation between truth and estimate for each tissue % and for the references with varying number of tissues \n",
    "\n",
    "correlation = []\n",
    "\n",
    "for percent in tissue_percents:\n",
    "    ref_error = []\n",
    "    \n",
    "    for ref in reference_list: \n",
    "        error = 0\n",
    "        \n",
    "        for i in range(replicates):\n",
    "            tissues = ref.shape[0]\n",
    "            truth, guess = run_optimization(individuals, sites, tissues, depth, method, ref, percent, tissue_of_interest)\n",
    "            error += (np.corrcoef(truth, guess)[0][1])\n",
    "        \n",
    "        ref_error.append(error/replicates)  # average correlation \n",
    "    \n",
    "    correlation.append(ref_error)\n",
    "    "
   ]
  },
  {
   "cell_type": "markdown",
   "metadata": {},
   "source": [
    "#### Plot\n",
    "\n",
    "For each number of tissues, what is the average correlation for 10% and 0.01%? In this plot, only using references with 5-10 number of tissues, to avoid problem above with some NaNs when sites are all 0 at a given location  "
   ]
  },
  {
   "cell_type": "code",
   "execution_count": 17,
   "metadata": {},
   "outputs": [
    {
     "data": {
      "image/png": "[encoded data removed]",
      "text/plain": [
       "<matplotlib.figure.Figure at 0x10e5d72b0>"
      ]
     },
     "metadata": {},
     "output_type": "display_data"
    }
   ],
   "source": [
    "tissues = list(range(2, 10))\n",
    "\n",
    "plt.rcParams.update({'font.size': 12})\n",
    "for error, percent in zip(correlation, tissue_percents):\n",
    "    plt.plot(tissues, error, '-o', label=str(percent) + \"%\")\n",
    "    \n",
    "plt.xlabel(\"Number of tissues\")\n",
    "plt.ylabel(\"Average Correlation\")\n",
    "plt.legend()\n",
    "\n",
    "plt.show()"
   ]
  },
  {
   "cell_type": "markdown",
   "metadata": {},
   "source": [
    "# error "
   ]
  },
  {
   "cell_type": "markdown",
   "metadata": {},
   "source": [
    "__*Plot 3*__: Number of tissues versus correlation between true simulated proportions and estimated proportions keeping one tissue fixed at 10% and 0.01%. Read depth of 30x.  \n",
    "\n",
    "__Observation__ Correlation seems to get only worse when the number of tissues approaches the percent. I don't think this would be a problem for our data, as I think the number of tissues will be >> the contribution of one tissue? Seems sensitive to the number of replicates "
   ]
  },
  {
   "cell_type": "markdown",
   "metadata": {},
   "source": [
    "### Experiment 1b: \n",
    "__Goal__: Next, I want to ask/answer the question- how many sites are needed to get accurate estimates? Is 10,000 too little? Is there a saturation point where more sites is  no longer useful, i.e. is 100 sites as good as 10,000? \n",
    "\n",
    "**Outline** \n",
    "* Use top 100,000, 10,000, 1,000 and 100 sites \n",
    "* keep 4 tissue percentages of brain, and make overall correlation and difference between true/estimated brain \n",
    "* continue to use a fixed read depth of 30x"
   ]
  },
  {
   "cell_type": "markdown",
   "metadata": {},
   "source": [
    "#### Parameters"
   ]
  },
  {
   "cell_type": "markdown",
   "metadata": {},
   "source": [
    "Again, make a list of numpy references, as in experiment 1a, but this time use different number of variable sites"
   ]
  },
  {
   "cell_type": "code",
   "execution_count": 10,
   "metadata": {
    "collapsed": true
   },
   "outputs": [],
   "source": [
    "# roadmap_dmrs_top100000 = roadmap_dmrs.sort_values(by=\"var\", ascending=False).iloc[:100000,:-1]  # take the top 100,000 most variable sites \n",
    "# note- 100,000 sites is unfeasable to run on my local drive, and possibly too much for optimization algorithm? \n",
    "# as such, will not use it in analyses below \n",
    "\n",
    "roadmap_top_10000 = reference  # use same top 10,000 sites as before\n",
    "roadmap_top_1000 = reference[:, :1000]  # subset to top 1,000 sites\n",
    "roadmap_top_100 = reference[:, :100]  # top 100 sites \n",
    "\n",
    "reference_list = [roadmap_top_10000, roadmap_top_1000, roadmap_top_100]"
   ]
  },
  {
   "cell_type": "code",
   "execution_count": 33,
   "metadata": {
    "collapsed": true
   },
   "outputs": [],
   "source": [
    "depth = 30  # fixed read depth \n",
    "tissue_percents = [10, 1, 0.1, 0.01]\n",
    "individuals = 1 \n",
    "tissue_of_interest = 2  # keep brain as the tissue of interest to fix \n",
    "method = qp\n",
    "noise = 0 \n",
    "replicates = 50"
   ]
  },
  {
   "cell_type": "markdown",
   "metadata": {},
   "source": [
    "#### Run Simulation"
   ]
  },
  {
   "cell_type": "markdown",
   "metadata": {},
   "source": [
    "Find the average correlation over 10 replicates for the range of fixed proportions of brain using references with a range of sites. \n",
    "\n",
    "Note- may also take a long time to run. "
   ]
  },
  {
   "cell_type": "code",
   "execution_count": 34,
   "metadata": {
    "collapsed": true
   },
   "outputs": [],
   "source": [
    "# get average error correlation for three reference panels with different numbers of sites  \n",
    "\n",
    "correlation = []\n",
    "\n",
    "for percent in tissue_percents:\n",
    "    ref_error = []\n",
    "    \n",
    "    for ref in reference_list:  # iterate over list of references with different number of sites\n",
    "        error = 0\n",
    "        \n",
    "        for i in range(replicates):\n",
    "            sites = ref.shape[1]  # make the number of sites in our observed the same as in the current reference \n",
    "            tissues = ref.shape[0]\n",
    "            \n",
    "            truth, guess = run_optimization(individuals, sites, tissues, depth, method, ref, percent, tissue_of_interest)\n",
    "            error += (np.corrcoef(truth, guess)[0][1])\n",
    "        \n",
    "        ref_error.append(error/replicates)\n",
    "    \n",
    "    correlation.append(ref_error)\n",
    "    "
   ]
  },
  {
   "cell_type": "markdown",
   "metadata": {},
   "source": [
    "#### Plot \n",
    "\n",
    "Examine how the average overall correlation (across 10 replicates) varies by number of sites for each of the fixed tissue percentages."
   ]
  },
  {
   "cell_type": "code",
   "execution_count": 36,
   "metadata": {},
   "outputs": [
    {
     "data": {
      "image/png": "[encoded data removed]",
      "text/plain": [
       "<matplotlib.figure.Figure at 0x10c031a20>"
      ]
     },
     "metadata": {},
     "output_type": "display_data"
    }
   ],
   "source": [
    "# @TODO add SD around points \n",
    "\n",
    "reference_size = [10000, 1000, 100]\n",
    "\n",
    "plt.rcParams.update({'font.size': 12})\n",
    "for error, percent in zip(correlation, tissue_percents):\n",
    "    plt.plot(reference_size, error, '-o', label=str(percent) + \"%\")\n",
    "    plt.xscale(\"log\")\n",
    "\n",
    "    \n",
    "plt.xlabel(\"Log number of sites\")\n",
    "plt.ylabel(\"Average Correlation\")\n",
    "\n",
    "plt.show()"
   ]
  },
  {
   "cell_type": "markdown",
   "metadata": {},
   "source": [
    "__*Plot 4*__: Log number of sites versus the correlation between true and estimated proportion for fixed tissue percentages. \n",
    "\n",
    "__Observation__ Makes sense. The more sites the better it seems! Especially if we expect a tissue to occur at a high percent? Seems roughly linear in log space. "
   ]
  },
  {
   "cell_type": "markdown",
   "metadata": {},
   "source": [
    "#### Run optimization \n",
    "\n",
    "Find the *spread* of differences between true brain prop and estimated over 10 replicates using references with a range of sites. \n",
    "\n",
    "Note- may also take a long time to run locally. "
   ]
  },
  {
   "cell_type": "code",
   "execution_count": 46,
   "metadata": {
    "collapsed": true
   },
   "outputs": [],
   "source": [
    "# get the distribution of differences between true brain and the optimization estimate for the range of site numbers\n",
    "\n",
    "difference = []\n",
    "\n",
    "for percent in tissue_percents:\n",
    "    ref_diff = []\n",
    "    \n",
    "    for ref in reference_list:  # iterate over list of references with different number of sites\n",
    "        diff = []\n",
    "        \n",
    "        for i in range(replicates):\n",
    "            sites = ref.shape[1]  # make the number of sites in our observed the same as in the current reference \n",
    "            tissues = ref.shape[0]\n",
    "            \n",
    "            truth, guess = run_optimization(individuals, sites, tissues, depth, method, ref, percent, tissue_of_interest)\n",
    "            diff.append(truth[0][tissue_of_interest] - guess[tissue_of_interest])\n",
    "        \n",
    "        ref_diff.append(diff)\n",
    "    \n",
    "    difference.append(ref_diff)\n",
    "    "
   ]
  },
  {
   "cell_type": "markdown",
   "metadata": {},
   "source": [
    "#### Plot \n",
    "\n",
    "Make a barplot to examine how consistently the brain proportion is estimated using the given number of reference sites"
   ]
  },
  {
   "cell_type": "code",
   "execution_count": 47,
   "metadata": {},
   "outputs": [
    {
     "data": {
      "image/png": "[encoded data removed]",
      "text/plain": [
       "<matplotlib.figure.Figure at 0x10da35978>"
      ]
     },
     "metadata": {},
     "output_type": "display_data"
    }
   ],
   "source": [
    "plt.rcParams.update({'font.size': 12})\n",
    "\n",
    "# use difference matrix instead of correlation \n",
    "fig, axes = plt.subplots(1, len(tissue_percents), sharey=True, figsize=(15, 5)) # makes subplots that share a y axis\n",
    "axes.ravel()\n",
    "\n",
    "colors = [\"royalblue\", \"darkorange\", \"green\", \"tomato\"]  # set colors (default is white)\n",
    "for i, c in zip(range(len(difference)), colors): \n",
    "    \n",
    "    axes[i].boxplot(difference[i], patch_artist=True, # patch artist necessary to set color \n",
    "            boxprops=dict(facecolor=c, color=c),\n",
    "            capprops=dict(color=c),\n",
    "            whiskerprops=dict(color=c),\n",
    "            flierprops=dict(color=c, markeredgecolor=c),\n",
    "            medianprops=dict(color=\"black\"))\n",
    "    \n",
    "    axes[i].set_title(str(tissue_percents[i]) + \"%\")  \n",
    "    axes[i].set_xticklabels(reference_size) # instead of tissue percents, have it be number of sites \n",
    "\n",
    "    \n",
    "# gives commmon axis labels \n",
    "fig.text(0.5, 0.04, 'Number of sites', ha='center')\n",
    "fig.text(0.04, 0.5, 'True - Estimate', va='center', rotation='vertical')\n",
    "\n",
    "plt.show()"
   ]
  },
  {
   "cell_type": "markdown",
   "metadata": {},
   "source": [
    "__*Plot 4*__: For each number of sites, the distribution of difference between true brain proportion and the estimated proportion for 10 replicates. \n",
    "\n",
    "**Observation**: seems to consistently estimate higher than the true value "
   ]
  },
  {
   "cell_type": "markdown",
   "metadata": {},
   "source": [
    "### Experiment 1c: \n",
    "\n",
    "__Goal__: Making mixtures of tissues that are contained in the reference set __with noise__. Since it is very unlikely that our observed methylation WGBS data will be *exactly* like that contained in the reference panel, this makes for a more realistic simulation. \n",
    "\n",
    "Keep the parameters the same as experiment1, but rewrite optimization function such that it accomodates a noise parameter. This parameter will be a percentage 1-100 that will be used to create a random distribution of noise added to our observed methylation values. Since these values are meant to reflect real values, they will be constrained so that values less than 0 will be truncated to 0 and values greater than 1 will be truncated to 1. \n",
    "\n",
    "**Outline** \n",
    "* Again take sites that are the top 10,000 variable sites \n",
    "* Fix one tissue at a range of proportions, as above  \n",
    "* Add noise in observations with values of 10, 1, 0.1, 0.01 percent"
   ]
  },
  {
   "cell_type": "code",
   "execution_count": 21,
   "metadata": {
    "collapsed": true
   },
   "outputs": [],
   "source": [
    "def run_optimization(individuals, sites, tissues, read_depth, method, reference, fixed_proportion, column, noise):\n",
    "    \"\"\"\n",
    "    this function controls the simulation, by generating the simulated matrices given a set of parameters and \n",
    "    running the optimization using method of choice \n",
    "    \n",
    "    :param individuals (int) number of individuals in the matrices (since optimization is only 1 person at a time, this is usually one. Will change later)\n",
    "    :param sites (int) number of CpGs in reference and observed matrix- must be the same \n",
    "    :param tissues (int) number of tissues in the reference/tissue proportion matrices \n",
    "    :param read_depth (int) the read depth to generate simulated observed methylation values around \n",
    "    :param method (string) either \"qp\" or \"naive\"; optimization method \n",
    "    :param reference (np.array) numpy array of reference methylation values (dimensions: tissues x sites)\n",
    "    :param fixed_proportion (float) value to fix one tissue at a given proportion in observed methylation counts\n",
    "    :param column (int) column # of specific tissue to fix \n",
    "    \n",
    "    :return 'true proportions' made by the simulation, the estimated proportions from the optimization \n",
    "    \"\"\"\n",
    "    \n",
    "    # generates proprotions where one tissue is fixed and all others are random such that total proportions = 1\n",
    "    proportions = np.asarray(generate_proportion_fixed(individuals, tissues, fixed_proportion, column))  \n",
    "    \n",
    "    \n",
    "    # observed percent methylated is the simulated proportions times reference\n",
    "    observed = np.matmul(proportions, reference)\n",
    "    \n",
    "    # add noise this time! \n",
    "    observed = np.matmul(proportions, reference)  # observed estimated is just reference times the proportions\n",
    "    observed = round_to_one(observed + np.random.normal(0, noise/100, observed.shape))  # add small amounts of noise to observed\n",
    "        \n",
    "    # read counts (ie number of methylated or unmethylated reads) are drawn from a \n",
    "    # poisson process around the read depth\n",
    "    depth = generate_depth(sites, individuals, read_depth) \n",
    "    methylated = generate_counts(depth, observed, sites, individuals)\n",
    "    unmethylated = depth - methylated\n",
    "    \n",
    "    \n",
    "    # start with estimate of the proportions where all tissues are equal \n",
    "    proportions_est = np.zeros((individuals, tissues)) + 0.5  \n",
    "    proportions_est = proportions_est/(np.sum(proportions_est))\n",
    "\n",
    "    \n",
    "    # run optimization \n",
    "    return proportions, method(proportions_est, reference, methylated, unmethylated)\n"
   ]
  },
  {
   "cell_type": "markdown",
   "metadata": {},
   "source": [
    "#### Parameters\n",
    "\n",
    "optimization parameters stay the same as experiment one, but add a noise_range parameter that gives % noise "
   ]
  },
  {
   "cell_type": "code",
   "execution_count": 22,
   "metadata": {},
   "outputs": [],
   "source": [
    "# same as experiment 1 \n",
    "\n",
    "reference = roadmap_top_10000  # just the standard top 10,000 sites used in experiment 1 \n",
    "read_depths = [0.5, 5, 10, 30, 100, 1000]  # switch to a range of read depths\n",
    "tissue_percents = [10, 1, 0.1, 0.01] \n",
    "individuals = 1 \n",
    "sites = reference.shape[1]   \n",
    "tissues = reference.shape[0]  \n",
    "tissue_of_interest = 2  # brain tissue of interest \n",
    "method = qp \n",
    "noise_range = [10, 1, 0.1, 0.01] # logarithmic range of noise   \n",
    "replicates = 50"
   ]
  },
  {
   "cell_type": "markdown",
   "metadata": {},
   "source": [
    "#### Run Simulation \n",
    "\n",
    "for each level of noise, for each fixed percent of brain, and each read depth, find the average correlation coefficient for 10 replicates "
   ]
  },
  {
   "cell_type": "code",
   "execution_count": 23,
   "metadata": {
    "collapsed": true
   },
   "outputs": [],
   "source": [
    "correlation = []\n",
    "for noise in noise_range: \n",
    "    noise_error = []\n",
    "    \n",
    "    for percent in tissue_percents:\n",
    "        each_percent_error = []\n",
    "\n",
    "        for depth in read_depths: \n",
    "            error = 0 \n",
    "\n",
    "            for i in range(replicates):\n",
    "                truth, guess = run_optimization(individuals, sites, tissues, depth, method, reference, percent, tissue_of_interest, noise)\n",
    "                error += (np.corrcoef(truth, guess)[0][1])\n",
    "\n",
    "            each_percent_error.append(error/replicates)\n",
    "        \n",
    "        noise_error.append(each_percent_error)\n",
    "\n",
    "    correlation.append(noise_error)\n"
   ]
  },
  {
   "cell_type": "markdown",
   "metadata": {},
   "source": [
    "#### Plot "
   ]
  },
  {
   "cell_type": "code",
   "execution_count": 24,
   "metadata": {},
   "outputs": [
    {
     "data": {
      "image/png": "[encoded data removed]",
      "text/plain": [
       "<matplotlib.figure.Figure at 0x10cf01710>"
      ]
     },
     "metadata": {},
     "output_type": "display_data"
    }
   ],
   "source": [
    "plt.rcParams.update({'font.size': 12})\n",
    "\n",
    "# use difference matrix instead of correlation \n",
    "fig, axes = plt.subplots(1, len(tissue_percents), sharey=True, figsize=(15, 5)) # makes subplots that share a y axis\n",
    "axes.ravel()\n",
    "\n",
    "colors = [\"royalblue\", \"darkorange\", \"green\", \"tomato\"]  # set colors (default is white)\n",
    "for i, c in zip(range(len(correlation)), colors): \n",
    "    \n",
    "    axes[i].boxplot(correlation[i], patch_artist=True, # patch artist necessary to set color \n",
    "            boxprops=dict(facecolor=c, color=c),\n",
    "            capprops=dict(color=c),\n",
    "            whiskerprops=dict(color=c),\n",
    "            flierprops=dict(color=c, markeredgecolor=c),\n",
    "            medianprops=dict(color=\"black\"))\n",
    "    \n",
    "    axes[i].set_title(str(tissue_percents[i]) + \"%\")  \n",
    "    axes[i].set_xticklabels(read_depths) # instead of tissue percents, have it be number of sites \n",
    "\n",
    "    \n",
    "# gives commmon axis labels \n",
    "fig.text(0.5, 0.04, 'Number of sites', ha='center')\n",
    "fig.text(0.04, 0.5, 'Correlation', va='center', rotation='vertical')\n",
    "\n",
    "plt.show()"
   ]
  },
  {
   "cell_type": "markdown",
   "metadata": {},
   "source": [
    "__*Plot 5*__: The correlation between true proportions and estimated tissue proportions for four values of normally distributed noise in our observed methylated data, and four percents of fixed tissue contribution. \n",
    "\n",
    "__Observation__ Pretty substantial difference between 10% and 1%, probably because of the 0/1 truncation.  "
   ]
  },
  {
   "cell_type": "markdown",
   "metadata": {},
   "source": [
    "#### Run Simulation "
   ]
  },
  {
   "cell_type": "markdown",
   "metadata": {},
   "source": [
    "Redo simulation to just keep track of brain truth/estimated difference when the entire observed matrix has noise. Fix depth at 30x to be consistent and limit computation. "
   ]
  },
  {
   "cell_type": "code",
   "execution_count": 63,
   "metadata": {
    "collapsed": true
   },
   "outputs": [],
   "source": [
    "# examine how well we can predict specifically brain, our tissue of interest \n",
    "# since this is now only one value, use the difference between the 'true' proportions (0.1, 0.01, 0.001, and 0.0001) and estimate \n",
    "\n",
    "depth = 30 \n",
    "difference = []\n",
    "\n",
    "for percent in tissue_percents:\n",
    "    percent_diff = []\n",
    "    \n",
    "    for depth in read_depths: \n",
    "        depth_diff = []\n",
    "        \n",
    "        for i in range(replicates):\n",
    "            truth, guess = run_optimization(individuals, sites, tissues, depth, method, reference, percent, tissue_of_interest, noise)\n",
    "            depth_diff.append(truth[0][tissue_of_interest] - guess[tissue_of_interest])\n",
    "        \n",
    "        percent_diff.append(depth_diff)  # all 10 replicates \n",
    "    \n",
    "    difference.append(percent_diff)\n"
   ]
  },
  {
   "cell_type": "code",
   "execution_count": 64,
   "metadata": {},
   "outputs": [
    {
     "data": {
      "image/png": "[encoded data removed]",
      "text/plain": [
       "<matplotlib.figure.Figure at 0x113d619e8>"
      ]
     },
     "metadata": {},
     "output_type": "display_data"
    }
   ],
   "source": [
    "plt.rcParams.update({'font.size': 12})\n",
    "\n",
    "# use difference matrix instead of correlation \n",
    "fig, axes = plt.subplots(1, len(tissue_percents), sharey=True, figsize=(15, 5)) # makes subplots that share a y axis\n",
    "axes.ravel()\n",
    "\n",
    "colors = [\"royalblue\", \"darkorange\", \"green\", \"tomato\"]  # set colors (default is white)\n",
    "for i, c in zip(range(len(difference)), colors): \n",
    "    \n",
    "    axes[i].boxplot(difference[i], patch_artist=True, # patch artist necessary to set color \n",
    "            boxprops=dict(facecolor=c, color=c),\n",
    "            capprops=dict(color=c),\n",
    "            whiskerprops=dict(color=c),\n",
    "            flierprops=dict(color=c, markeredgecolor=c),\n",
    "            medianprops=dict(color=\"black\"))\n",
    "    \n",
    "    axes[i].set_title(str(tissue_percents[i]) + \"%\")  \n",
    "    axes[i].set_xticklabels(noise_range) # instead of tissue percents, have it be number of sites \n",
    "\n",
    "    \n",
    "# gives commmon axis labels \n",
    "fig.text(0.5, 0.04, '% Noise Added', ha='center')\n",
    "fig.text(0.04, 0.5, 'True - Estimate', va='center', rotation='vertical')\n",
    "\n",
    "plt.show()"
   ]
  },
  {
   "cell_type": "markdown",
   "metadata": {},
   "source": [
    "__*Plot 5a*__: the difference between true brain proportion and estimated when noise is added for 30x read depth. "
   ]
  },
  {
   "cell_type": "markdown",
   "metadata": {},
   "source": [
    "### Experiment 1d: \n",
    "\n",
    "__Goal__: does the correlation continue when we pick random sites instead of the most variable? Is top most variable the best way to pick sites for these experiments? \n",
    "\n",
    "**Outline**: \n",
    "* keep all the parameters of experiment 1 the same, but use 10,000 sites randomly selected from the roadmap variable regions "
   ]
  },
  {
   "cell_type": "markdown",
   "metadata": {},
   "source": [
    "#### Parameters\n",
    "\n",
    "Use the pandas random sample feature to pick 10,000 variable sites from the roadmap reference panel "
   ]
  },
  {
   "cell_type": "code",
   "execution_count": 65,
   "metadata": {
    "collapsed": true
   },
   "outputs": [],
   "source": [
    "roadmap_dmrs = roadmap_dmrs_drop_na.iloc[:, 3:]  # drop na's \n",
    "roadmap_dmrs_sample = roadmap_dmrs.sample(n=10000)  # pick random sites\n",
    "reference = roadmap_dmrs_sample.as_matrix().T  # make a numpy matrix "
   ]
  },
  {
   "cell_type": "code",
   "execution_count": 66,
   "metadata": {
    "collapsed": true
   },
   "outputs": [],
   "source": [
    "read_depths = [10, 30, 100, 1000]  # depths to sample aroudn \n",
    "tissue_percents = [10, 1, 0.1, 0.01]  # percent of one fixed tissue \n",
    "individuals = 1  # number of individuals to optimize around \n",
    "sites = reference.shape[1]  # number of CpG sites \n",
    "tissues = reference.shape[0]  # number of tissues in reference \n",
    "tissue_of_interest = 2  # tissue of interest to fix, in this case it is brain_germinal matrix\n",
    "method = qp # optimization method, in this case, quadratic programming \n",
    "noise = 0  # no noise for right now \n",
    "replicates = 10  # perform simulation 50 times "
   ]
  },
  {
   "cell_type": "markdown",
   "metadata": {},
   "source": [
    "#### Run Optimization\n",
    "\n",
    "repeat the optimization from experiment 1 with the randomly selected reference. "
   ]
  },
  {
   "cell_type": "code",
   "execution_count": 54,
   "metadata": {
    "collapsed": true
   },
   "outputs": [],
   "source": [
    "# run simulation for parameters above and take the average correlation between estimate and true proportions \n",
    "# for all replicates performed \n",
    "\n",
    "correlation = []\n",
    "\n",
    "for percent in tissue_percents:\n",
    "    read_depth_error = []\n",
    "    \n",
    "    for depth in read_depths: \n",
    "        error = 0\n",
    "        \n",
    "        for i in range(replicates):\n",
    "            truth, guess = run_optimization(individuals, sites, tissues, depth, method, reference, percent, tissue_of_interest, noise)\n",
    "            error += (np.corrcoef(truth, guess)[0][1])\n",
    "        \n",
    "        read_depth_error.append(error/replicates)\n",
    "    \n",
    "    correlation.append(read_depth_error)\n"
   ]
  },
  {
   "cell_type": "markdown",
   "metadata": {},
   "source": [
    "#### Plot"
   ]
  },
  {
   "cell_type": "code",
   "execution_count": 55,
   "metadata": {},
   "outputs": [
    {
     "data": {
      "text/plain": [
       "<matplotlib.legend.Legend at 0x10f23cdd8>"
      ]
     },
     "execution_count": 55,
     "metadata": {},
     "output_type": "execute_result"
    },
    {
     "data": {
      "image/png": "[encoded data removed]",
      "text/plain": [
       "<matplotlib.figure.Figure at 0x111cd84e0>"
      ]
     },
     "metadata": {},
     "output_type": "display_data"
    }
   ],
   "source": [
    "# plot the correlation vs read depth \n",
    "\n",
    "plt.rcParams.update({'font.size': 12})\n",
    "for proportion_error, proportion in zip(correlation, tissue_percents):\n",
    "    plt.plot(read_depths, proportion_error, '-o', label=str(proportion) + \"%\")\n",
    "    plt.xscale(\"log\")\n",
    "    \n",
    "plt.xlabel(\"Log Read Depth\")\n",
    "plt.ylabel(\"Correlation\")\n",
    "plt.legend()\n",
    "\n",
    "plt.show()"
   ]
  },
  {
   "cell_type": "markdown",
   "metadata": {},
   "source": [
    "__*Plot 6*__: Log read depth versus correlation between truth and estimate for four fixed tissue proportions using random CpGs for the reference set. \n",
    "\n",
    "__Observation__ This seems to decrease the effectiveness substantially from the top variable sites. Interesting because the sites are still from \"differentially methylated regions\" determined by ROADMAP, so good to know that even with sites that seem differentially methylated, we need to be more clever about picking them. "
   ]
  }
 ],
 "metadata": {
  "kernelspec": {
   "display_name": "Python 3",
   "language": "python",
   "name": "python3"
  },
  "language_info": {
   "codemirror_mode": {
    "name": "ipython",
    "version": 3
   },
   "file_extension": ".py",
   "mimetype": "text/x-python",
   "name": "python",
   "nbconvert_exporter": "python",
   "pygments_lexer": "ipython3",
   "version": "3.6.4"
  }
 },
 "nbformat": 4,
 "nbformat_minor": 2
}
